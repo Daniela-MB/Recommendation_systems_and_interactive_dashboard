{
 "cells": [
  {
   "cell_type": "markdown",
   "id": "bf4102fd-91a0-47c2-abc1-8c94e4c2e343",
   "metadata": {},
   "source": [
    "# Interactive Dashboard"
   ]
  },
  {
   "cell_type": "markdown",
   "id": "7800275a-599b-4cc6-a206-1966166d5c22",
   "metadata": {},
   "source": [
    "To start this project, I will gather at the beginning all the libraries used to manipulate data, create visualizations, and develop machine learning models."
   ]
  },
  {
   "cell_type": "code",
   "execution_count": 3,
   "id": "7a5e11f7-5a33-43b1-a083-287349d09bed",
   "metadata": {},
   "outputs": [],
   "source": [
    "import pandas as pd\n",
    "import numpy as np\n",
    "import matplotlib.pyplot as plt\n",
    "import seaborn as sns"
   ]
  },
  {
   "cell_type": "markdown",
   "id": "0e1c6c47-e7b9-4ae5-af40-1d6362faf19f",
   "metadata": {},
   "source": [
    "# Data Preparation"
   ]
  },
  {
   "cell_type": "markdown",
   "id": "ddcaaae2-beae-4dca-a36f-621ba50f6ea6",
   "metadata": {},
   "source": [
    "## Data understanding - EDA"
   ]
  },
  {
   "cell_type": "markdown",
   "id": "26757f5d-1c46-49a8-9272-ee1451f15cc5",
   "metadata": {},
   "source": [
    "#### Data characterisation"
   ]
  },
  {
   "cell_type": "markdown",
   "id": "f899c468-c5fc-41c3-ab2f-de231ea92817",
   "metadata": {},
   "source": [
    "The method 'pd.read_csv' was used to access the CSV file ('anime.csv'). Then, I used the method '.head()' to visualize the data, followed by the method '.shape' to determine the dataset size, and the '.info()' to see the data types and null-values. The 'anime' dataset contains 12,294 records and 7 features, which are represented in various data types, including object, float, and integer."
   ]
  },
  {
   "cell_type": "code",
   "execution_count": 8,
   "id": "224eec06-a121-4ab6-bc89-a5905fd6526c",
   "metadata": {},
   "outputs": [
    {
     "data": {
      "text/html": [
       "<div>\n",
       "<style scoped>\n",
       "    .dataframe tbody tr th:only-of-type {\n",
       "        vertical-align: middle;\n",
       "    }\n",
       "\n",
       "    .dataframe tbody tr th {\n",
       "        vertical-align: top;\n",
       "    }\n",
       "\n",
       "    .dataframe thead th {\n",
       "        text-align: right;\n",
       "    }\n",
       "</style>\n",
       "<table border=\"1\" class=\"dataframe\">\n",
       "  <thead>\n",
       "    <tr style=\"text-align: right;\">\n",
       "      <th></th>\n",
       "      <th>anime_id</th>\n",
       "      <th>name</th>\n",
       "      <th>genre</th>\n",
       "      <th>type</th>\n",
       "      <th>episodes</th>\n",
       "      <th>rating</th>\n",
       "      <th>members</th>\n",
       "    </tr>\n",
       "  </thead>\n",
       "  <tbody>\n",
       "    <tr>\n",
       "      <th>0</th>\n",
       "      <td>32281</td>\n",
       "      <td>Kimi no Na wa.</td>\n",
       "      <td>Drama, Romance, School, Supernatural</td>\n",
       "      <td>Movie</td>\n",
       "      <td>1</td>\n",
       "      <td>9.37</td>\n",
       "      <td>200630</td>\n",
       "    </tr>\n",
       "    <tr>\n",
       "      <th>1</th>\n",
       "      <td>5114</td>\n",
       "      <td>Fullmetal Alchemist: Brotherhood</td>\n",
       "      <td>Action, Adventure, Drama, Fantasy, Magic, Mili...</td>\n",
       "      <td>TV</td>\n",
       "      <td>64</td>\n",
       "      <td>9.26</td>\n",
       "      <td>793665</td>\n",
       "    </tr>\n",
       "    <tr>\n",
       "      <th>2</th>\n",
       "      <td>28977</td>\n",
       "      <td>Gintama°</td>\n",
       "      <td>Action, Comedy, Historical, Parody, Samurai, S...</td>\n",
       "      <td>TV</td>\n",
       "      <td>51</td>\n",
       "      <td>9.25</td>\n",
       "      <td>114262</td>\n",
       "    </tr>\n",
       "    <tr>\n",
       "      <th>3</th>\n",
       "      <td>9253</td>\n",
       "      <td>Steins;Gate</td>\n",
       "      <td>Sci-Fi, Thriller</td>\n",
       "      <td>TV</td>\n",
       "      <td>24</td>\n",
       "      <td>9.17</td>\n",
       "      <td>673572</td>\n",
       "    </tr>\n",
       "    <tr>\n",
       "      <th>4</th>\n",
       "      <td>9969</td>\n",
       "      <td>Gintama&amp;#039;</td>\n",
       "      <td>Action, Comedy, Historical, Parody, Samurai, S...</td>\n",
       "      <td>TV</td>\n",
       "      <td>51</td>\n",
       "      <td>9.16</td>\n",
       "      <td>151266</td>\n",
       "    </tr>\n",
       "  </tbody>\n",
       "</table>\n",
       "</div>"
      ],
      "text/plain": [
       "   anime_id                              name  \\\n",
       "0     32281                    Kimi no Na wa.   \n",
       "1      5114  Fullmetal Alchemist: Brotherhood   \n",
       "2     28977                          Gintama°   \n",
       "3      9253                       Steins;Gate   \n",
       "4      9969                     Gintama&#039;   \n",
       "\n",
       "                                               genre   type episodes  rating  \\\n",
       "0               Drama, Romance, School, Supernatural  Movie        1    9.37   \n",
       "1  Action, Adventure, Drama, Fantasy, Magic, Mili...     TV       64    9.26   \n",
       "2  Action, Comedy, Historical, Parody, Samurai, S...     TV       51    9.25   \n",
       "3                                   Sci-Fi, Thriller     TV       24    9.17   \n",
       "4  Action, Comedy, Historical, Parody, Samurai, S...     TV       51    9.16   \n",
       "\n",
       "   members  \n",
       "0   200630  \n",
       "1   793665  \n",
       "2   114262  \n",
       "3   673572  \n",
       "4   151266  "
      ]
     },
     "execution_count": 8,
     "metadata": {},
     "output_type": "execute_result"
    }
   ],
   "source": [
    "anime = pd.read_csv('anime.csv')\n",
    "anime.head()"
   ]
  },
  {
   "cell_type": "code",
   "execution_count": 9,
   "id": "84840ed4-4da2-436d-9e5c-1367162232d9",
   "metadata": {},
   "outputs": [
    {
     "data": {
      "text/plain": [
       "(12294, 7)"
      ]
     },
     "execution_count": 9,
     "metadata": {},
     "output_type": "execute_result"
    }
   ],
   "source": [
    "anime.shape"
   ]
  },
  {
   "cell_type": "code",
   "execution_count": 10,
   "id": "78a8222c-0579-4ee2-81e0-942e1cf99ee0",
   "metadata": {},
   "outputs": [
    {
     "name": "stdout",
     "output_type": "stream",
     "text": [
      "<class 'pandas.core.frame.DataFrame'>\n",
      "RangeIndex: 12294 entries, 0 to 12293\n",
      "Data columns (total 7 columns):\n",
      " #   Column    Non-Null Count  Dtype  \n",
      "---  ------    --------------  -----  \n",
      " 0   anime_id  12294 non-null  int64  \n",
      " 1   name      12294 non-null  object \n",
      " 2   genre     12232 non-null  object \n",
      " 3   type      12269 non-null  object \n",
      " 4   episodes  12294 non-null  object \n",
      " 5   rating    12064 non-null  float64\n",
      " 6   members   12294 non-null  int64  \n",
      "dtypes: float64(1), int64(2), object(4)\n",
      "memory usage: 672.5+ KB\n"
     ]
    }
   ],
   "source": [
    "anime.info()"
   ]
  },
  {
   "cell_type": "markdown",
   "id": "490eeb20-55f8-4fe0-8116-6be359b04eec",
   "metadata": {},
   "source": [
    "#### Checking data distribution"
   ]
  },
  {
   "cell_type": "markdown",
   "id": "0fc79ae0-8142-42ee-ad36-5c35b26ea86a",
   "metadata": {},
   "source": [
    "Before addressing the missing values, I will evaluate the descriptive statistics of the data. I will use the '.describe()' function, which generates statistics such as data distribution and variation, crucial for understanding the data's characteristics during the exploratory data analysis (EDA) phase. These insights will also aid in selecting the most appropriate method to handle missing values."
   ]
  },
  {
   "cell_type": "code",
   "execution_count": 13,
   "id": "fb69b960-74fa-4019-8a96-9dc8912e3412",
   "metadata": {},
   "outputs": [
    {
     "data": {
      "text/html": [
       "<div>\n",
       "<style scoped>\n",
       "    .dataframe tbody tr th:only-of-type {\n",
       "        vertical-align: middle;\n",
       "    }\n",
       "\n",
       "    .dataframe tbody tr th {\n",
       "        vertical-align: top;\n",
       "    }\n",
       "\n",
       "    .dataframe thead th {\n",
       "        text-align: right;\n",
       "    }\n",
       "</style>\n",
       "<table border=\"1\" class=\"dataframe\">\n",
       "  <thead>\n",
       "    <tr style=\"text-align: right;\">\n",
       "      <th></th>\n",
       "      <th>anime_id</th>\n",
       "      <th>rating</th>\n",
       "      <th>members</th>\n",
       "    </tr>\n",
       "  </thead>\n",
       "  <tbody>\n",
       "    <tr>\n",
       "      <th>count</th>\n",
       "      <td>12294.000000</td>\n",
       "      <td>12064.000000</td>\n",
       "      <td>1.229400e+04</td>\n",
       "    </tr>\n",
       "    <tr>\n",
       "      <th>mean</th>\n",
       "      <td>14058.221653</td>\n",
       "      <td>6.473902</td>\n",
       "      <td>1.807134e+04</td>\n",
       "    </tr>\n",
       "    <tr>\n",
       "      <th>std</th>\n",
       "      <td>11455.294701</td>\n",
       "      <td>1.026746</td>\n",
       "      <td>5.482068e+04</td>\n",
       "    </tr>\n",
       "    <tr>\n",
       "      <th>min</th>\n",
       "      <td>1.000000</td>\n",
       "      <td>1.670000</td>\n",
       "      <td>5.000000e+00</td>\n",
       "    </tr>\n",
       "    <tr>\n",
       "      <th>25%</th>\n",
       "      <td>3484.250000</td>\n",
       "      <td>5.880000</td>\n",
       "      <td>2.250000e+02</td>\n",
       "    </tr>\n",
       "    <tr>\n",
       "      <th>50%</th>\n",
       "      <td>10260.500000</td>\n",
       "      <td>6.570000</td>\n",
       "      <td>1.550000e+03</td>\n",
       "    </tr>\n",
       "    <tr>\n",
       "      <th>75%</th>\n",
       "      <td>24794.500000</td>\n",
       "      <td>7.180000</td>\n",
       "      <td>9.437000e+03</td>\n",
       "    </tr>\n",
       "    <tr>\n",
       "      <th>max</th>\n",
       "      <td>34527.000000</td>\n",
       "      <td>10.000000</td>\n",
       "      <td>1.013917e+06</td>\n",
       "    </tr>\n",
       "  </tbody>\n",
       "</table>\n",
       "</div>"
      ],
      "text/plain": [
       "           anime_id        rating       members\n",
       "count  12294.000000  12064.000000  1.229400e+04\n",
       "mean   14058.221653      6.473902  1.807134e+04\n",
       "std    11455.294701      1.026746  5.482068e+04\n",
       "min        1.000000      1.670000  5.000000e+00\n",
       "25%     3484.250000      5.880000  2.250000e+02\n",
       "50%    10260.500000      6.570000  1.550000e+03\n",
       "75%    24794.500000      7.180000  9.437000e+03\n",
       "max    34527.000000     10.000000  1.013917e+06"
      ]
     },
     "execution_count": 13,
     "metadata": {},
     "output_type": "execute_result"
    }
   ],
   "source": [
    "anime.describe()"
   ]
  },
  {
   "cell_type": "markdown",
   "id": "18c2994b-7c2f-4119-a76e-481e1746d918",
   "metadata": {},
   "source": [
    "Evaluating the descriptive statistics by comparing the difference between the mean and median (50%) values, I found that the data is slightly skewed in the feature 'rating', but highly skewed in the 'members' feature. This indicates that the data in these two columns do not follow a normal distribution. The 'anime_id' feature was not considered as it represents unique values to identify anime."
   ]
  },
  {
   "cell_type": "markdown",
   "id": "b1f63d1b-6c80-4f93-be4e-61d00b4efd37",
   "metadata": {},
   "source": [
    "This information is crucial for selecting the appropriate method to impute the missing values, such as mean, median, or interpolation. For instance, I can replace the missing values with the mean when the data follows a normal distribution. However, when the data is skewed, I may opt for the median or interpolation because they are less influenced by extreme values."
   ]
  },
  {
   "cell_type": "markdown",
   "id": "486bab2b-8f3b-48a3-b817-9a56f972e7c2",
   "metadata": {},
   "source": [
    "**Visualization - Distributions**\n",
    "\n",
    "Below I will plot the histograms to see the distributions for 'rating' and 'members'\n",
    "\n",
    "I chose this type of chart because the distribution of data can be easily visualised, with the frequency or count of observations displayed in each interval (bins) (seaborn.pydata.org, n.d.)"
   ]
  },
  {
   "cell_type": "code",
   "execution_count": 17,
   "id": "d9b332d9-b324-491b-833c-dd5a4160949b",
   "metadata": {},
   "outputs": [
    {
     "data": {
      "image/png": "[encoded data removed]",
      "text/plain": [
       "<Figure size 1500x500 with 2 Axes>"
      ]
     },
     "metadata": {},
     "output_type": "display_data"
    }
   ],
   "source": [
    "fig, axs = plt.subplots(1, 2, figsize=(15, 5))\n",
    "\n",
    "sns.histplot(data=anime, x=\"rating\", bins=20, color='#6495ed', ax=axs[0])\n",
    "axs[0].set_xlabel(\"Rating-anime\", fontsize=14)\n",
    "axs[0].set_ylabel(\"Count\", fontsize=14)\n",
    "axs[0].tick_params(axis='x', labelsize=14)\n",
    "axs[0].tick_params(axis='y', labelsize=14)\n",
    "\n",
    "sns.histplot(data=anime, x=\"members\", bins=20, color='#6495ed', ax=axs[1])\n",
    "axs[1].set_xlabel(\"Members\", fontsize=14)\n",
    "axs[1].set_ylabel(\"Count\", fontsize=14)\n",
    "axs[1].tick_params(axis='x', labelsize=14)\n",
    "axs[1].tick_params(axis='y', labelsize=14)\n",
    "\n",
    "plt.tight_layout()\n",
    "plt.show()"
   ]
  },
  {
   "cell_type": "markdown",
   "id": "c09961d0-cc59-4478-a7f9-b2e0af9d5cfe",
   "metadata": {},
   "source": [
    "#### Checking for missing values and duplicates\n",
    "I will use the '.isnull()' and '.sum()' functions to verify the presence of missing values. Additionally, I will check for duplicates using the '.duplicated().sum()' function. These procedures are essential for ensuring data quality when performing statistical analysis, visualization, and modeling. Without them, the results can be unreliable and inaccurate, potentially leading to incorrect decisions.\n",
    "\n",
    "The 'anime' dataset exhibits 2.25% missing values. Considering this proportion is not substantial, I have decided to remove them."
   ]
  },
  {
   "cell_type": "code",
   "execution_count": 19,
   "id": "4f25362c-ca5f-41d3-a34d-7a4b47faea71",
   "metadata": {},
   "outputs": [
    {
     "data": {
      "text/plain": [
       "anime_id      0\n",
       "name          0\n",
       "genre        62\n",
       "type         25\n",
       "episodes      0\n",
       "rating      230\n",
       "members       0\n",
       "dtype: int64"
      ]
     },
     "execution_count": 19,
     "metadata": {},
     "output_type": "execute_result"
    }
   ],
   "source": [
    "anime.isnull().sum() "
   ]
  },
  {
   "cell_type": "code",
   "execution_count": 20,
   "id": "801f9427-a20a-49c3-8270-544acd98df4b",
   "metadata": {},
   "outputs": [],
   "source": [
    "anime.dropna(axis=0, inplace=True)"
   ]
  },
  {
   "cell_type": "code",
   "execution_count": 21,
   "id": "14ce992f-c753-4050-b4f1-bdf83bbd051a",
   "metadata": {},
   "outputs": [
    {
     "data": {
      "text/plain": [
       "(12017, 7)"
      ]
     },
     "execution_count": 21,
     "metadata": {},
     "output_type": "execute_result"
    }
   ],
   "source": [
    "anime.shape"
   ]
  },
  {
   "cell_type": "markdown",
   "id": "f77960ff-dd0b-4b05-8276-5c0ce211fe70",
   "metadata": {},
   "source": [
    "As we can see below there were no duplicates in the 'anime' dataset."
   ]
  },
  {
   "cell_type": "code",
   "execution_count": 23,
   "id": "52369880-ed7d-4e56-bc28-f9edebc5305f",
   "metadata": {},
   "outputs": [
    {
     "data": {
      "text/plain": [
       "0"
      ]
     },
     "execution_count": 23,
     "metadata": {},
     "output_type": "execute_result"
    }
   ],
   "source": [
    "anime.duplicated().sum()"
   ]
  },
  {
   "cell_type": "markdown",
   "id": "4f2bf949-a3d3-4cb6-88dc-cbd73edb01a0",
   "metadata": {},
   "source": [
    "#### Checking for outliers\n",
    "\n",
    "I will check for outliers and verify if I can remove them without losing the data integrity.\n",
    "As we can see below, the removal of outliers will be impossible since the entire dataset has been considered outliers. Even when I reduced the threshold to 0.00005, the number of outliers continued to be high. In addition, it seems that the outliers are simply part of the natural variation in the dataset, as they fall within the expected range of rating values from 0 to 10. See the  boxplot (below). Therefore, I have decided not to remove outliers."
   ]
  },
  {
   "cell_type": "markdown",
   "id": "8c1e6492-c80d-49c7-a305-270c2c968025",
   "metadata": {},
   "source": [
    "I will not used the 'members' variable from 'anime' because it only provides records about the number of members per anime."
   ]
  },
  {
   "cell_type": "code",
   "execution_count": 26,
   "id": "0fad1625-be38-41d0-a78a-89e1e51a1191",
   "metadata": {},
   "outputs": [],
   "source": [
    "Q1_a = anime[['rating']].quantile(0.25)\n",
    "Q3_a = anime[['rating']].quantile(0.75)\n",
    "IQR_a = Q3_a - Q1_a"
   ]
  },
  {
   "cell_type": "code",
   "execution_count": 27,
   "id": "e492d38c-678d-483f-8091-38a9a00b3a92",
   "metadata": {},
   "outputs": [],
   "source": [
    "left, right = anime.align((Q1_a-1.5*IQR_a), axis=1, copy=False)\n",
    "left, right = left.align((Q3_a+1.5*IQR_a), axis=1, copy=False)\n",
    "outliers_a = anime[~((left < right).any(axis=1))]"
   ]
  },
  {
   "cell_type": "code",
   "execution_count": 28,
   "id": "766efeee-8198-4bf9-9dec-832e85375bc7",
   "metadata": {},
   "outputs": [
    {
     "data": {
      "text/plain": [
       "(12, 7)"
      ]
     },
     "execution_count": 28,
     "metadata": {},
     "output_type": "execute_result"
    }
   ],
   "source": [
    "outliers_a.shape"
   ]
  },
  {
   "cell_type": "code",
   "execution_count": 29,
   "id": "9e938958-39c2-4a08-9706-b38cf5270fd8",
   "metadata": {},
   "outputs": [
    {
     "data": {
      "image/png": "[encoded data removed]",
      "text/plain": [
       "<Figure size 500x400 with 1 Axes>"
      ]
     },
     "metadata": {},
     "output_type": "display_data"
    }
   ],
   "source": [
    "fig, ax = plt.subplots(figsize=(5, 4))  # Use ax instead of axs\n",
    "\n",
    "sns.boxplot(data=anime[['rating']], color='#6495ed', ax=ax)  # Use ax instead of axs[0]\n",
    "ax.set_ylim(bottom=-2, top=12)  \n",
    "ax.set_title('Rating - anime')\n",
    "ax.set_xlabel('Rating', fontsize=14)\n",
    "ax.set_ylabel('Values', fontsize=14)\n",
    "\n",
    "plt.show()"
   ]
  },
  {
   "cell_type": "markdown",
   "id": "c78e2888-96b0-4ca0-b5ba-1e7a0c653be6",
   "metadata": {},
   "source": [
    "**Saving the new dataset**\n",
    "\n",
    "Now that the dataset is clean, I will save it to be used in the dashboard to facilitate manipulation when creating the charts."
   ]
  },
  {
   "cell_type": "code",
   "execution_count": 31,
   "id": "0fa9cb92-46d3-43da-a940-c36e19501fbd",
   "metadata": {},
   "outputs": [],
   "source": [
    "#anime.to_csv('processed_anime.csv', index=False)"
   ]
  },
  {
   "cell_type": "markdown",
   "id": "e770b854-0041-4dfe-b4ef-b668770d6895",
   "metadata": {},
   "source": [
    "# Interactive Dashboard"
   ]
  },
  {
   "cell_type": "markdown",
   "id": "19ad9587-4685-4071-8aa5-6b16fc7d782e",
   "metadata": {},
   "source": [
    "To create the interactive dashboard for this project, I chose to use nearly all the available features, given the limited number in the dataset. These features are essential for illustrating a business scenario for this category of streaming, which has been attracting the attention of major services like Netflix, now also offering this content.\n",
    "\n",
    "The features that I choose are: \n",
    "\n",
    "- 'name'\n",
    "- 'genre'\n",
    "- 'type'\n",
    "- 'episodes'\n",
    "- 'rating'\n",
    "- 'members'\n",
    "\n",
    "The 'name' and 'rating' features indicate the most popular anime among the 'members'. Additionally, we can filter the data by 'gender'. The anime 'type' and the number of 'episodes' can be assessed based on the preferences of the 'members' as well. Overall, by analysing this data, we can gain insights into what users are watching and engaging with. \n",
    "\n",
    "Based on the visualizations, I can conclude that this dataset is well-suited for machine learning models in the online retail business sector. The results align with identifying the most liked anime, taking into account the types and genres preferred by the members. This information can be utilized in machine learning to develop recommender systems, such as content-based and collaborative filtering, as implemented in this project.\n",
    "\n",
    "This system is designed to suggest relevant items to users based on their behaviour or based on other users with similar profiles (Patel, Patel, and Chauhan, 2023, p. 851). This system can also provide initial recommendations for new users who do not have a history created, and it is usually done by recommending the top-rated items, such as the anime name and genre, which is shown in the interactive dashboard in this project."
   ]
  },
  {
   "cell_type": "markdown",
   "id": "613f0542-6526-4461-ac79-998b740f21a1",
   "metadata": {},
   "source": [
    "### Audience\n",
    "\n",
    "The interactive dashboard was designed for an audience of younger adults (18-35 years), requiring an understanding of their familiarity with technology, preference for clear, accessible information, and need for quick, direct answers (Desai, 2019). To provide direct information, I used the inverted pyramid structure, where the most important information is presented at the top, followed by less relevant information towards the bottom (Faisal, 2022).\n",
    "\n",
    "With this in mind, I created an interactive dashboard using Streamlit, an open-source Python framework for creating interactive data apps with widgets like sliders and checkboxes, making it ideal for visualizing data and sharing insights (Streamlit, n.d.). I also used Plotly, a Python graphing library, to create interactive visualizations (Plotly, 2023). By using these two tools together, I believe the audience experience will be improved because they can easily hover over the chart to get values and select the information they want by using the menu box and the sidebar filters.   \n",
    "\n",
    "Considering that the audience is younger adults, I opted to use more vibrant colours to bring modernity and make the visuals more accessible for quickly seeing the information. I used a font size that can be read without effort, and I chose analogous colours (magenta, purple, and blue) to create balance in the dashboard and avoid overwhelming the audience.\n",
    "\n",
    "At the end of the dashboard, I included a button to link the user directly to MyAnimeList, a website from which the data was gathered. This site also provides information related to the anime, such as synopsis, score, ranking, and more."
   ]
  },
  {
   "cell_type": "markdown",
   "id": "1809066e-0bbe-4087-b4ec-53e64b4f7ce0",
   "metadata": {},
   "source": [
    "### Link to access the interactive dashboard:\n",
    "\n",
    "https://dashboardanimepy-qy2t3nfjq3g2hc6pnylf5g.streamlit.app/"
   ]
  },
  {
   "cell_type": "code",
   "execution_count": 36,
   "id": "84cce209-46b5-4865-aaab-234c22e97ba1",
   "metadata": {},
   "outputs": [
    {
     "name": "stdout",
     "output_type": "stream",
     "text": [
      "Overwriting dashboard_anime.py\n"
     ]
    }
   ],
   "source": [
    "%%writefile dashboard_anime.py\n",
    "import streamlit as st\n",
    "import pandas as pd\n",
    "import plotly.express as px\n",
    "\n",
    "df = pd.read_csv('processed_anime.csv')\n",
    "\n",
    "# Convert columns to correct data types\n",
    "df['episodes'] = pd.to_numeric(df['episodes'], errors='coerce')\n",
    "df['rating'] = pd.to_numeric(df['rating'], errors='coerce')\n",
    "df['members'] = pd.to_numeric(df['members'], errors='coerce')\n",
    "\n",
    "# Preprocess genre data to get the sum of each genre's occurrence\n",
    "genre_counts = df['genre'].str.split(', ').explode().value_counts().reset_index() \n",
    "genre_counts.columns = ['genre', 'count']\n",
    "\n",
    "# Streamlit app layout\n",
    "st.title(\"Anime Streaming\")\n",
    "st.subheader(\" \", divider='grey')\n",
    "st.write(\"\")\n",
    "st.write(\"\")\n",
    "\n",
    "# Sidebar for filters\n",
    "st.sidebar.header(\"Filters\")\n",
    "genre_filter = st.sidebar.multiselect(\"Select Genre\", genre_counts['genre'])\n",
    "type_filter = st.sidebar.multiselect(\"Select Type\", df['type'].unique())\n",
    "episode_filter = st.sidebar.slider(\"Number of Episodes\", min_value=1, max_value=100, value=(1, 100))\n",
    "rating_filter = st.sidebar.slider(\"Rating\", min_value=0.0, max_value=10.0, value=(0.0, 10.0))\n",
    "member_filter = st.sidebar.slider(\"Number of Members\", min_value=0, max_value=20000, value=(0, 20000))\n",
    "\n",
    "# Filter the dataframe based on user selection\n",
    "filtered_df = df[\n",
    "    (df['genre'].str.split(', ').explode().isin(genre_filter).groupby(level=0).any() if genre_filter else True) &\n",
    "    (df['type'].isin(type_filter) if type_filter else True) &\n",
    "    (df['episodes'] >= episode_filter[0]) & (df['episodes'] <= episode_filter[1]) &\n",
    "    (df['rating'] >= rating_filter[0]) & (df['rating'] <= rating_filter[1]) &\n",
    "    (df['members'] >= member_filter[0]) & (df['members'] <= member_filter[1])\n",
    "]\n",
    "\n",
    "# Group by anime name and aggregate data\n",
    "grouped_df = filtered_df.groupby('name').agg({\n",
    "    'episodes': 'sum',\n",
    "    'rating': 'mean',\n",
    "    'members': 'sum'\n",
    "}).reset_index()\n",
    "    \n",
    "# Common layout settings for font sizes\n",
    "layout_settings = {\n",
    "    'xaxis_title_font_size': 18,\n",
    "    'yaxis_title_font_size': 18,\n",
    "    'xaxis_tickfont_size': 14,\n",
    "    'yaxis_tickfont_size': 14,\n",
    "    'legend_font_size': 16,\n",
    "    'title_font_size': 24\n",
    "}\n",
    "\n",
    "# Top 10 Anime by Rating\n",
    "top_10_anime = grouped_df.nlargest(10, 'rating')[['name', 'rating']]\n",
    "fig1 = px.bar(top_10_anime, x='rating', y='name', orientation='h', title='Top 10 Anime by Rating', color_discrete_sequence=['#9932cc'])\n",
    "fig1.update_layout(xaxis_title='Rating', yaxis_title='Anime name', title_x=0.35, **layout_settings)\n",
    "st.plotly_chart(fig1)\n",
    "\n",
    "# Genre Distribution\n",
    "genre_df = filtered_df.copy()\n",
    "genre_df = genre_df.assign(genre=genre_df['genre'].str.split(', ')).explode('genre')\n",
    "fig2 = px.violin(genre_df, x='genre', y='rating', box=True, title='Genre Distribution', color_discrete_sequence=['#644dd3'])\n",
    "fig2.update_layout(xaxis_title='Genre', yaxis_title='Rating', xaxis=dict(tickangle=-45), title_x=0.35, **layout_settings)\n",
    "st.plotly_chart(fig2)\n",
    "\n",
    "# Rating vs. Members Scatter Plot\n",
    "fig3 = px.scatter(grouped_df, x='rating', y='members', title='Relation between Rating and Members', color_discrete_sequence=['#9932cc'])\n",
    "fig3.update_traces(marker=dict(opacity=0.6))\n",
    "fig3.update_layout(xaxis_title='Rating', yaxis_title='Members', title_x=0.2, **layout_settings)\n",
    "st.plotly_chart(fig3)\n",
    "\n",
    "# Bubble Chart: Rating vs. Episodes with Members as Size\n",
    "fig4 = px.scatter(grouped_df, x='rating', y='episodes', size='members', title='Relation among Rating, Episodes and Members', labels={'rating': 'Rating', 'members': 'Members', 'episodes': 'Number of Episodes'},\n",
    "                  color_discrete_sequence=['#3265cc'])\n",
    "fig4.update_layout(xaxis_title='Rating', yaxis_title='Episodes', title_x=0.15, **layout_settings)\n",
    "st.plotly_chart(fig4)\n",
    "\n",
    "# Type Distribution (Strip Plot)\n",
    "fig5 = px.strip(filtered_df, x='type', y='rating', title='Distribution of Anime Types', color='type',\n",
    "                color_discrete_sequence=['#9932cc'])\n",
    "fig5.update_traces(marker=dict(opacity=0.6))\n",
    "fig5.update_layout(xaxis_title='Type', yaxis_title='Rating', title_x=0.3, **layout_settings)\n",
    "st.plotly_chart(fig5)\n",
    "\n",
    "# Episodes vs. Rating\n",
    "episodes_rating = filtered_df.groupby('episodes')['rating'].mean().reset_index()\n",
    "fig6 = px.line(episodes_rating, x='episodes', y='rating', markers=True, title='Episode Count Impact on Anime Average Ratings', color_discrete_sequence=['#644dd3'])\n",
    "fig6.update_layout(xaxis_title='Number of Episodes', yaxis_title='Average Rating', title_x=0.16, **layout_settings)\n",
    "st.plotly_chart(fig6)\n",
    "\n",
    "# Add a button that accesses a website\n",
    "st.link_button(\"Visit MyAnimeList Website\", \"https://myanimelist.net/\")"
   ]
  },
  {
   "cell_type": "markdown",
   "id": "690b6fb6-81e8-42fe-95b0-be22fc661984",
   "metadata": {},
   "source": [
    "### Rationale and justification for all stages of data preparation for visualizations\n",
    "\n",
    "To create an interactive dashboard using Streamlit, I used the command ''%%writefile dashboard_anime.py' in my Jupyter Notebook. This command is essential for writing the contents of a cell directly to a file (in this case, dashboard_anime.py). This approach allowed me to make corrections and save the file without leaving the notebook. Additionally, I could see the final alterations in real-time by running the Streamlit environment from my Anaconda prompt.\n",
    "\n",
    "After loading the preprocessed data, I used the code below to ensure that the 'episodes,' 'rating,' and 'members' variables were of numeric type to avoid errors during mathematical operations and filtering. The 'errors' parameter helped convert invalid parsing to NaN, ensuring that the data is clean. \n",
    "\n",
    "    df['episodes'] = pd.to_numeric(df['episodes'], errors='coerce')\n",
    "    df['rating'] = pd.to_numeric(df['rating'], errors='coerce')\n",
    "    df['members'] = pd.to_numeric(df['members'], errors='coerce')\n",
    "\n",
    "Considering that the genres were separated by commas and there was more than one genre per row, I used the code below to separate them and count their occurrences. This allows filtering by individual genres. \n",
    "\n",
    "    genre_counts = df['genre'].str.split(', ').explode().value_counts().reset_index() \n",
    "\n",
    "I used the tools from Streamlit to create title, subheader with a white space and a divider:\n",
    "\n",
    "    st.title(\"Anime Streaming\")\n",
    "    st.subheader(\" \", divider='grey')\n",
    "    st.write(\"\")\n",
    "    st.write(\"\")\n",
    "\n",
    "I used the interactive sidebar filters from Streamlit for 'genre', 'type', 'episode', 'rating', and 'members' to facilitate the user experience when filtering for the desired values.\n",
    "\n",
    "    st.sidebar.header(\"Filters\")\n",
    "    genre_filter = st.sidebar.multiselect(\"Select Genre\", genre_counts['genre'])\n",
    "    type_filter = st.sidebar.multiselect(\"Select Type\", df['type'].unique())\n",
    "    episode_filter = st.sidebar.slider(\"Number of Episodes\", min_value=1, max_value=100, value=(1, 100))\n",
    "    rating_filter = st.sidebar.slider(\"Rating\", min_value=0.0, max_value=10.0, value=(0.0, 10.0))\n",
    "    member_filter = st.sidebar.slider(\"Number of Members\", min_value=0, max_value=20000, value=(0, 20000))\n",
    "\n",
    "The use of filtering helps the user dynamically and efficiently select a subset of the data based on their criteria of interest. For example, the 'episodes', 'rating', and 'members' variables are filtered to check if their values fall within specified ranges. This ensures that only data matching the user's specified conditions is selected.\n",
    "\n",
    "    filtered_df = df[\n",
    "        (df['genre'].str.split(', ').explode().isin(genre_filter).groupby(level=0).any() if genre_filter else True) &\n",
    "        (df['type'].isin(type_filter) if type_filter else True) &\n",
    "        (df['episodes'] >= episode_filter[0]) & (df['episodes'] <= episode_filter[1]) &\n",
    "        (df['rating'] >= rating_filter[0]) & (df['rating'] <= rating_filter[1]) &\n",
    "        (df['members'] >= member_filter[0]) & (df['members'] <= member_filter[1])]\n",
    "\n",
    "The code below is used to group the data by anime name and aggregate the values for 'episodes', 'rating', and 'members', allowing the analysis of individual anime titles ('name') rather than at the row level, which might contain multiple entries for the same anime name. The 'sum' and 'mean' function are used to summarize the data. \n",
    "\n",
    "    grouped_df = filtered_df.groupby('name').agg({\n",
    "        'episodes': 'sum',\n",
    "        'rating': 'mean',\n",
    "        'members': 'sum'}).reset_index()\n",
    "\n",
    "The code below defines a common layout for all the plots to ensure consistency among the charts.\n",
    "\n",
    "    layout_settings = {\n",
    "        'xaxis_title_font_size': 18,\n",
    "        'yaxis_title_font_size': 18,\n",
    "        'xaxis_tickfont_size': 14,\n",
    "        'yaxis_tickfont_size': 14,\n",
    "        'legend_font_size': 16,\n",
    "        'title_font_size': 24}\n",
    "\n",
    "Visualizations:\n",
    "\n",
    "The first chart displays the top 10 anime based on their ratings. This type of chart provides a clear and straightforward comparison of the highest-rated anime.\n",
    "\n",
    "    # Top 10 Anime by Rating\n",
    "    top_10_anime = grouped_df.nlargest(10, 'rating')[['name', 'rating']]\n",
    "    fig1 = px.bar(top_10_anime, x='rating', y='name', orientation='h', title='Top 10 Anime by Rating', color_discrete_sequence=['#9932cc'])\n",
    "    fig1.update_layout(xaxis_title='Rating', yaxis_title='Anime name', title_x=0.35, **layout_settings)\n",
    "    st.plotly_chart(fig1)\n",
    "\n",
    "The second visualization is a violin plot used to show the distribution of ratings across different genres, providing insights into how ratings vary within and across genres. A box plot is included inside the violin plot to adds additional summary statistics, such as the median and interquartile range.\n",
    "\n",
    "    # Genre Distribution\n",
    "    genre_df = filtered_df.copy()\n",
    "    genre_df = genre_df.assign(genre=genre_df['genre'].str.split(', ')).explode('genre')\n",
    "    fig2 = px.violin(genre_df, x='genre', y='rating', box=True, title='Genre Distribution', color_discrete_sequence=['#644dd3'])\n",
    "    fig2.update_layout(xaxis_title='Genre', yaxis_title='Rating', xaxis=dict(tickangle=-45), title_x=0.35, **layout_settings)\n",
    "    st.plotly_chart(fig2)\n",
    "\n",
    "The third visualization uses scatter plot to explore the relationship between anime ratings and the number of members (viewers). This visualization helps in identifying any correlation between popularity (as measured by members) and quality (as measured by rating).\n",
    "\n",
    "    # Rating vs. Members Scatter Plot\n",
    "    fig3 = px.scatter(grouped_df, x='rating', y='members', title='Relation between Rating and Members', color_discrete_sequence=['#9932cc'])\n",
    "    fig3.update_traces(marker=dict(opacity=0.6))\n",
    "    fig3.update_layout(xaxis_title='Rating', yaxis_title='Members', title_x=0.2, **layout_settings)\n",
    "    st.plotly_chart(fig3)\n",
    "\n",
    "The bubble chart is used to visualizes the relationship between ratings and the number of episodes, with the size of the bubbles representing the number of members. This three-dimensional aspect helps to understand how the number of episodes and members interact with ratings, revealing more complex patterns and trends.\n",
    "\n",
    "    # Bubble Chart: Rating vs. Episodes with Members as Size\n",
    "    fig4 = px.scatter(grouped_df, x='rating', y='episodes', size='members', title='Relation among Rating, Episodes and Members', labels={'rating': 'Rating', 'members': 'Members', 'episodes': 'Number of Episodes'}, color_discrete_sequence=['#3265cc'])\n",
    "    fig4.update_layout(xaxis_title='Rating', yaxis_title='Episodes', title_x=0.15, **layout_settings)\n",
    "    st.plotly_chart(fig4)\n",
    "\n",
    "The strip plot (or dot plot) displays the distribution of ratings across different types of anime. This visualization helps in understanding how ratings are spread within each type and can highlight any outliers or patterns within specific types.\n",
    "\n",
    "    # Type Distribution (Strip Plot)\n",
    "    fig5 = px.strip(filtered_df, x='type', y='rating', title='Distribution of Anime Types', color='type', color_discrete_sequence=['#9932cc'])\n",
    "    fig5.update_traces(marker=dict(opacity=0.6))\n",
    "    fig5.update_layout(xaxis_title='Type', yaxis_title='Rating', title_x=0.3, **layout_settings)\n",
    "    st.plotly_chart(fig5)\n",
    "\n",
    "The line chart with markers is used to show the average rating of anime based on the number of episodes. This visualization helps identify trends and patterns in how the length of an anime series (in terms of episodes) impacts its average rating, providing insights into viewer preferences regarding shorter versus longer series.\n",
    "\n",
    "    # Episodes vs. Rating\n",
    "    episodes_rating = filtered_df.groupby('episodes')['rating'].mean().reset_index()\n",
    "    fig6 = px.line(episodes_rating, x='episodes', y='rating', markers=True, title='Episode Count Impact on Anime Average Ratings', color_discrete_sequence=['#644dd3'])\n",
    "    fig6.update_layout(xaxis_title='Number of Episodes', yaxis_title='Average Rating', title_x=0.16, **layout_settings)\n",
    "    st.plotly_chart(fig6)\n",
    "\n",
    "The code below uses a Streamlit function to create a button that directs the user to the MyAnimeList website. I opted to do this because, considering the audience that is highly technological and appreciates quick information, I believe this is a way to provide it to them.\n",
    "\n",
    "    st.link_button(\"Visit MyAnimeList Website\", \"https://myanimelist.net/\")\n",
    "\n",
    "    "
   ]
  },
  {
   "cell_type": "markdown",
   "id": "738f5240-02d9-471d-be6f-7e1315ceca3f",
   "metadata": {},
   "source": [
    "# References\n",
    "\n",
    "Desai, R. (2019). UX Design for Different User Generations. [online] Medium. Available at: https://uxplanet.org/ux-design-for-different-user-generations-a1eac5b8e403#:~:text=UX%20Design%20for%20Different%20User%20Generations%201%201. [Accessed 20 May 2024].\n",
    "\n",
    "Faisal, F. (2022). Site is undergoing maintenance. [online] Aufait UX - Award winning UI UX Design Company. Available at: https://www.aufaitux.com/blog/dashboard-design-principles/ [Accessed 22 May 2024].\n",
    "\n",
    "Numpy (2009). NumPy. [online] Numpy.org. Available at: https://numpy.org/. [Accessed 20 May 2024].\n",
    "\n",
    "matplotlib.org. (n.d.). Getting started — Matplotlib 3.6.2 documentation. [online] Available at: https://matplotlib.org/stable/users/getting_started/index.html [Accessed 20 May 2024].\n",
    "\n",
    "OpenAI. (2024). ChatGPT (GPT-3.5 version) [Large language model]. https://chat.openai.com/chat (https://chat.openai.com/chat. [Accessed 20 May 2024])\n",
    "\n",
    "pandas.pydata.org. (n.d.). User Guide — pandas 1.0.4 documentation. [online] Available at: https://pandas.pydata.org/docs/user_guide/index.html#user-guide. [Accessed 20 May 2024].\n",
    "\n",
    "Patel, D., Patel, F. and Chauhan, U. (2023). Recommendation Systems: Types, Applications, and Challenges. International Journal of Computing and Digital Systems, 13(1), pp.851–868. doi:https://doi.org/10.12785/ijcds/130168.\n",
    "\n",
    "plotly (n.d.). Plotly Express. [online] plotly.com. Available at: https://plotly.com/python/plotly-express/. [Accessed 22 May 2024].\n",
    "\n",
    "Plotly (2023). Plotly Python Graphing Library. [online] plotly.com. Available at: https://plotly.com/python/. [Accessed 22 May 2024].\n",
    "\n",
    "Waskom, M. (2021). seaborn: statistical data visualization — seaborn 0.10.1 documentation. [online] seaborn.pydata.org. Available at: https://seaborn.pydata.org/index.html [Accessed 20 May 2024].\n",
    "\n",
    "Streamlit (n.d.). Streamlit Docs. [online] docs.streamlit.io. Available at: https://docs.streamlit.io/ [Accessed 22 May 2024]."
   ]
  },
  {
   "cell_type": "markdown",
   "id": "c6a4ecaa-9d63-4de1-a065-f858d2dc5939",
   "metadata": {},
   "source": [
    "**Explanation of AI uses in this project:** \n",
    "\n",
    "I used the ChatGPT to refine ideas, find information about the topic, check for grammar usage, and get information about code usage. "
   ]
  }
 ],
 "metadata": {
  "kernelspec": {
   "display_name": "Python 3 (ipykernel)",
   "language": "python",
   "name": "python3"
  },
  "language_info": {
   "codemirror_mode": {
    "name": "ipython",
    "version": 3
   },
   "file_extension": ".py",
   "mimetype": "text/x-python",
   "name": "python",
   "nbconvert_exporter": "python",
   "pygments_lexer": "ipython3",
   "version": "3.11.9"
  }
 },
 "nbformat": 4,
 "nbformat_minor": 5
}
