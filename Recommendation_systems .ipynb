{
 "cells": [
  {
   "cell_type": "markdown",
   "id": "287cc156-b953-48ee-82bf-a3d1e1dcbd56",
   "metadata": {},
   "source": [
    "# Recommendation Systems"
   ]
  },
  {
   "cell_type": "markdown",
   "id": "df34984a-625b-46f2-a3fc-e5108be52760",
   "metadata": {},
   "source": [
    "To start this project, I will gather at the beginning all the libraries used to manipulate data, create visualizations, and develop machine learning models."
   ]
  },
  {
   "cell_type": "code",
   "execution_count": 3,
   "id": "37f7ec92-b57e-4229-a4e8-e7e5617511bc",
   "metadata": {},
   "outputs": [],
   "source": [
    "import pandas as pd\n",
    "import numpy as np\n",
    "import matplotlib.pyplot as plt\n",
    "import missingno as msno\n",
    "import seaborn as sns\n",
    "from collections import Counter\n",
    "from sklearn.feature_extraction.text import TfidfVectorizer\n",
    "from sklearn.metrics.pairwise import linear_kernel\n",
    "from sklearn.model_selection import StratifiedKFold, train_test_split\n",
    "from sklearn.metrics.pairwise import cosine_similarity\n",
    "from math import sqrt\n",
    "from sklearn.metrics import mean_absolute_error\n",
    "from scipy.stats import pearsonr"
   ]
  },
  {
   "cell_type": "markdown",
   "id": "86d80a07-69c5-4d25-91b9-c211b11c9fcf",
   "metadata": {},
   "source": [
    "# Data Preparation"
   ]
  },
  {
   "cell_type": "markdown",
   "id": "f2d76e5c-99aa-4022-9923-8e479bd3f0bf",
   "metadata": {},
   "source": [
    "## Data understanding - EDA"
   ]
  },
  {
   "cell_type": "markdown",
   "id": "a451f74f-54da-4798-bc00-531610e58c07",
   "metadata": {},
   "source": [
    "#### Data characterisation"
   ]
  },
  {
   "cell_type": "markdown",
   "id": "c5bb7006-0163-4e2a-913c-0da452fb7416",
   "metadata": {},
   "source": [
    "The method 'pd.read_csv' was used to access the CSV files ('anime.csv' and 'rating.csv'). Then, I used the method '.head()' to visualize the data, followed by the method '.shape' to determine the dataset size, and the '.info()' to see the data types and null-values.\n",
    "\n",
    "The 'anime' dataset has 12,294 records and 7 features. While the second dataset 'rating' has 7,813,737 records and 3 features. The 'rating' dataset will be referred to as 'user' to facilitate understanding that these records are from the users."
   ]
  },
  {
   "cell_type": "code",
   "execution_count": 8,
   "id": "9e9847da-19b4-4a65-8b5e-6b0859ae2f6c",
   "metadata": {},
   "outputs": [
    {
     "data": {
      "text/html": [
       "<div>\n",
       "<style scoped>\n",
       "    .dataframe tbody tr th:only-of-type {\n",
       "        vertical-align: middle;\n",
       "    }\n",
       "\n",
       "    .dataframe tbody tr th {\n",
       "        vertical-align: top;\n",
       "    }\n",
       "\n",
       "    .dataframe thead th {\n",
       "        text-align: right;\n",
       "    }\n",
       "</style>\n",
       "<table border=\"1\" class=\"dataframe\">\n",
       "  <thead>\n",
       "    <tr style=\"text-align: right;\">\n",
       "      <th></th>\n",
       "      <th>anime_id</th>\n",
       "      <th>name</th>\n",
       "      <th>genre</th>\n",
       "      <th>type</th>\n",
       "      <th>episodes</th>\n",
       "      <th>rating</th>\n",
       "      <th>members</th>\n",
       "    </tr>\n",
       "  </thead>\n",
       "  <tbody>\n",
       "    <tr>\n",
       "      <th>0</th>\n",
       "      <td>32281</td>\n",
       "      <td>Kimi no Na wa.</td>\n",
       "      <td>Drama, Romance, School, Supernatural</td>\n",
       "      <td>Movie</td>\n",
       "      <td>1</td>\n",
       "      <td>9.37</td>\n",
       "      <td>200630</td>\n",
       "    </tr>\n",
       "    <tr>\n",
       "      <th>1</th>\n",
       "      <td>5114</td>\n",
       "      <td>Fullmetal Alchemist: Brotherhood</td>\n",
       "      <td>Action, Adventure, Drama, Fantasy, Magic, Mili...</td>\n",
       "      <td>TV</td>\n",
       "      <td>64</td>\n",
       "      <td>9.26</td>\n",
       "      <td>793665</td>\n",
       "    </tr>\n",
       "    <tr>\n",
       "      <th>2</th>\n",
       "      <td>28977</td>\n",
       "      <td>Gintama°</td>\n",
       "      <td>Action, Comedy, Historical, Parody, Samurai, S...</td>\n",
       "      <td>TV</td>\n",
       "      <td>51</td>\n",
       "      <td>9.25</td>\n",
       "      <td>114262</td>\n",
       "    </tr>\n",
       "    <tr>\n",
       "      <th>3</th>\n",
       "      <td>9253</td>\n",
       "      <td>Steins;Gate</td>\n",
       "      <td>Sci-Fi, Thriller</td>\n",
       "      <td>TV</td>\n",
       "      <td>24</td>\n",
       "      <td>9.17</td>\n",
       "      <td>673572</td>\n",
       "    </tr>\n",
       "    <tr>\n",
       "      <th>4</th>\n",
       "      <td>9969</td>\n",
       "      <td>Gintama&amp;#039;</td>\n",
       "      <td>Action, Comedy, Historical, Parody, Samurai, S...</td>\n",
       "      <td>TV</td>\n",
       "      <td>51</td>\n",
       "      <td>9.16</td>\n",
       "      <td>151266</td>\n",
       "    </tr>\n",
       "  </tbody>\n",
       "</table>\n",
       "</div>"
      ],
      "text/plain": [
       "   anime_id                              name  \\\n",
       "0     32281                    Kimi no Na wa.   \n",
       "1      5114  Fullmetal Alchemist: Brotherhood   \n",
       "2     28977                          Gintama°   \n",
       "3      9253                       Steins;Gate   \n",
       "4      9969                     Gintama&#039;   \n",
       "\n",
       "                                               genre   type episodes  rating  \\\n",
       "0               Drama, Romance, School, Supernatural  Movie        1    9.37   \n",
       "1  Action, Adventure, Drama, Fantasy, Magic, Mili...     TV       64    9.26   \n",
       "2  Action, Comedy, Historical, Parody, Samurai, S...     TV       51    9.25   \n",
       "3                                   Sci-Fi, Thriller     TV       24    9.17   \n",
       "4  Action, Comedy, Historical, Parody, Samurai, S...     TV       51    9.16   \n",
       "\n",
       "   members  \n",
       "0   200630  \n",
       "1   793665  \n",
       "2   114262  \n",
       "3   673572  \n",
       "4   151266  "
      ]
     },
     "execution_count": 8,
     "metadata": {},
     "output_type": "execute_result"
    }
   ],
   "source": [
    "anime = pd.read_csv('anime.csv')\n",
    "anime.head()"
   ]
  },
  {
   "cell_type": "code",
   "execution_count": 9,
   "id": "1e3ced22-5696-4146-bd98-36d0489d811a",
   "metadata": {},
   "outputs": [
    {
     "data": {
      "text/plain": [
       "(12294, 7)"
      ]
     },
     "execution_count": 9,
     "metadata": {},
     "output_type": "execute_result"
    }
   ],
   "source": [
    "anime.shape"
   ]
  },
  {
   "cell_type": "code",
   "execution_count": 10,
   "id": "2f6b730b-32d1-4bee-a89a-468638dbf64d",
   "metadata": {},
   "outputs": [
    {
     "name": "stdout",
     "output_type": "stream",
     "text": [
      "<class 'pandas.core.frame.DataFrame'>\n",
      "RangeIndex: 12294 entries, 0 to 12293\n",
      "Data columns (total 7 columns):\n",
      " #   Column    Non-Null Count  Dtype  \n",
      "---  ------    --------------  -----  \n",
      " 0   anime_id  12294 non-null  int64  \n",
      " 1   name      12294 non-null  object \n",
      " 2   genre     12232 non-null  object \n",
      " 3   type      12269 non-null  object \n",
      " 4   episodes  12294 non-null  object \n",
      " 5   rating    12064 non-null  float64\n",
      " 6   members   12294 non-null  int64  \n",
      "dtypes: float64(1), int64(2), object(4)\n",
      "memory usage: 672.5+ KB\n"
     ]
    }
   ],
   "source": [
    "anime.info()"
   ]
  },
  {
   "cell_type": "code",
   "execution_count": 11,
   "id": "e4a6ef52-0c5b-4b97-ab85-4b115e10d34f",
   "metadata": {},
   "outputs": [
    {
     "data": {
      "text/html": [
       "<div>\n",
       "<style scoped>\n",
       "    .dataframe tbody tr th:only-of-type {\n",
       "        vertical-align: middle;\n",
       "    }\n",
       "\n",
       "    .dataframe tbody tr th {\n",
       "        vertical-align: top;\n",
       "    }\n",
       "\n",
       "    .dataframe thead th {\n",
       "        text-align: right;\n",
       "    }\n",
       "</style>\n",
       "<table border=\"1\" class=\"dataframe\">\n",
       "  <thead>\n",
       "    <tr style=\"text-align: right;\">\n",
       "      <th></th>\n",
       "      <th>user_id</th>\n",
       "      <th>anime_id</th>\n",
       "      <th>rating</th>\n",
       "    </tr>\n",
       "  </thead>\n",
       "  <tbody>\n",
       "    <tr>\n",
       "      <th>0</th>\n",
       "      <td>1</td>\n",
       "      <td>20</td>\n",
       "      <td>-1</td>\n",
       "    </tr>\n",
       "    <tr>\n",
       "      <th>1</th>\n",
       "      <td>1</td>\n",
       "      <td>24</td>\n",
       "      <td>-1</td>\n",
       "    </tr>\n",
       "    <tr>\n",
       "      <th>2</th>\n",
       "      <td>1</td>\n",
       "      <td>79</td>\n",
       "      <td>-1</td>\n",
       "    </tr>\n",
       "    <tr>\n",
       "      <th>3</th>\n",
       "      <td>1</td>\n",
       "      <td>226</td>\n",
       "      <td>-1</td>\n",
       "    </tr>\n",
       "    <tr>\n",
       "      <th>4</th>\n",
       "      <td>1</td>\n",
       "      <td>241</td>\n",
       "      <td>-1</td>\n",
       "    </tr>\n",
       "  </tbody>\n",
       "</table>\n",
       "</div>"
      ],
      "text/plain": [
       "   user_id  anime_id  rating\n",
       "0        1        20      -1\n",
       "1        1        24      -1\n",
       "2        1        79      -1\n",
       "3        1       226      -1\n",
       "4        1       241      -1"
      ]
     },
     "execution_count": 11,
     "metadata": {},
     "output_type": "execute_result"
    }
   ],
   "source": [
    "user = pd.read_csv('rating.csv')\n",
    "user.head()"
   ]
  },
  {
   "cell_type": "code",
   "execution_count": 12,
   "id": "0117aad2-d57f-44d0-bbe0-c73c3f95a56c",
   "metadata": {},
   "outputs": [
    {
     "data": {
      "text/plain": [
       "(7813737, 3)"
      ]
     },
     "execution_count": 12,
     "metadata": {},
     "output_type": "execute_result"
    }
   ],
   "source": [
    "user.shape"
   ]
  },
  {
   "cell_type": "code",
   "execution_count": 13,
   "id": "86befa65-4762-483f-9ae8-465efc0266cb",
   "metadata": {},
   "outputs": [
    {
     "name": "stdout",
     "output_type": "stream",
     "text": [
      "<class 'pandas.core.frame.DataFrame'>\n",
      "RangeIndex: 7813737 entries, 0 to 7813736\n",
      "Data columns (total 3 columns):\n",
      " #   Column    Dtype\n",
      "---  ------    -----\n",
      " 0   user_id   int64\n",
      " 1   anime_id  int64\n",
      " 2   rating    int64\n",
      "dtypes: int64(3)\n",
      "memory usage: 178.8 MB\n"
     ]
    }
   ],
   "source": [
    "user.info()"
   ]
  },
  {
   "cell_type": "markdown",
   "id": "80e22fdd-0254-44a0-aeb8-b9b6d5e52d90",
   "metadata": {},
   "source": [
    "#### Checking for data distribution\n",
    "\n"
   ]
  },
  {
   "cell_type": "markdown",
   "id": "b4a905ff-bed0-4119-871e-a2ba760e7788",
   "metadata": {},
   "source": [
    "Before addressing the missing values, I will evaluate the descriptive statistics of the data. I will use the '.describe()' function, which generates statistics such as data distribution and variation, crucial for understanding the data's characteristics during the exploratory data analysis (EDA) phase. These insights will also aid in selecting the most appropriate method to handle missing values."
   ]
  },
  {
   "cell_type": "code",
   "execution_count": 16,
   "id": "38bf8d76-a36f-499a-91b5-fa530847909c",
   "metadata": {},
   "outputs": [
    {
     "data": {
      "text/html": [
       "<div>\n",
       "<style scoped>\n",
       "    .dataframe tbody tr th:only-of-type {\n",
       "        vertical-align: middle;\n",
       "    }\n",
       "\n",
       "    .dataframe tbody tr th {\n",
       "        vertical-align: top;\n",
       "    }\n",
       "\n",
       "    .dataframe thead th {\n",
       "        text-align: right;\n",
       "    }\n",
       "</style>\n",
       "<table border=\"1\" class=\"dataframe\">\n",
       "  <thead>\n",
       "    <tr style=\"text-align: right;\">\n",
       "      <th></th>\n",
       "      <th>anime_id</th>\n",
       "      <th>rating</th>\n",
       "      <th>members</th>\n",
       "    </tr>\n",
       "  </thead>\n",
       "  <tbody>\n",
       "    <tr>\n",
       "      <th>count</th>\n",
       "      <td>12294.000000</td>\n",
       "      <td>12064.000000</td>\n",
       "      <td>1.229400e+04</td>\n",
       "    </tr>\n",
       "    <tr>\n",
       "      <th>mean</th>\n",
       "      <td>14058.221653</td>\n",
       "      <td>6.473902</td>\n",
       "      <td>1.807134e+04</td>\n",
       "    </tr>\n",
       "    <tr>\n",
       "      <th>std</th>\n",
       "      <td>11455.294701</td>\n",
       "      <td>1.026746</td>\n",
       "      <td>5.482068e+04</td>\n",
       "    </tr>\n",
       "    <tr>\n",
       "      <th>min</th>\n",
       "      <td>1.000000</td>\n",
       "      <td>1.670000</td>\n",
       "      <td>5.000000e+00</td>\n",
       "    </tr>\n",
       "    <tr>\n",
       "      <th>25%</th>\n",
       "      <td>3484.250000</td>\n",
       "      <td>5.880000</td>\n",
       "      <td>2.250000e+02</td>\n",
       "    </tr>\n",
       "    <tr>\n",
       "      <th>50%</th>\n",
       "      <td>10260.500000</td>\n",
       "      <td>6.570000</td>\n",
       "      <td>1.550000e+03</td>\n",
       "    </tr>\n",
       "    <tr>\n",
       "      <th>75%</th>\n",
       "      <td>24794.500000</td>\n",
       "      <td>7.180000</td>\n",
       "      <td>9.437000e+03</td>\n",
       "    </tr>\n",
       "    <tr>\n",
       "      <th>max</th>\n",
       "      <td>34527.000000</td>\n",
       "      <td>10.000000</td>\n",
       "      <td>1.013917e+06</td>\n",
       "    </tr>\n",
       "  </tbody>\n",
       "</table>\n",
       "</div>"
      ],
      "text/plain": [
       "           anime_id        rating       members\n",
       "count  12294.000000  12064.000000  1.229400e+04\n",
       "mean   14058.221653      6.473902  1.807134e+04\n",
       "std    11455.294701      1.026746  5.482068e+04\n",
       "min        1.000000      1.670000  5.000000e+00\n",
       "25%     3484.250000      5.880000  2.250000e+02\n",
       "50%    10260.500000      6.570000  1.550000e+03\n",
       "75%    24794.500000      7.180000  9.437000e+03\n",
       "max    34527.000000     10.000000  1.013917e+06"
      ]
     },
     "execution_count": 16,
     "metadata": {},
     "output_type": "execute_result"
    }
   ],
   "source": [
    "anime.describe()"
   ]
  },
  {
   "cell_type": "code",
   "execution_count": 17,
   "id": "191dfb9c-368b-4169-9ace-afa52a2f784a",
   "metadata": {},
   "outputs": [
    {
     "data": {
      "text/html": [
       "<div>\n",
       "<style scoped>\n",
       "    .dataframe tbody tr th:only-of-type {\n",
       "        vertical-align: middle;\n",
       "    }\n",
       "\n",
       "    .dataframe tbody tr th {\n",
       "        vertical-align: top;\n",
       "    }\n",
       "\n",
       "    .dataframe thead th {\n",
       "        text-align: right;\n",
       "    }\n",
       "</style>\n",
       "<table border=\"1\" class=\"dataframe\">\n",
       "  <thead>\n",
       "    <tr style=\"text-align: right;\">\n",
       "      <th></th>\n",
       "      <th>user_id</th>\n",
       "      <th>anime_id</th>\n",
       "      <th>rating</th>\n",
       "    </tr>\n",
       "  </thead>\n",
       "  <tbody>\n",
       "    <tr>\n",
       "      <th>count</th>\n",
       "      <td>7.813737e+06</td>\n",
       "      <td>7.813737e+06</td>\n",
       "      <td>7.813737e+06</td>\n",
       "    </tr>\n",
       "    <tr>\n",
       "      <th>mean</th>\n",
       "      <td>3.672796e+04</td>\n",
       "      <td>8.909072e+03</td>\n",
       "      <td>6.144030e+00</td>\n",
       "    </tr>\n",
       "    <tr>\n",
       "      <th>std</th>\n",
       "      <td>2.099795e+04</td>\n",
       "      <td>8.883950e+03</td>\n",
       "      <td>3.727800e+00</td>\n",
       "    </tr>\n",
       "    <tr>\n",
       "      <th>min</th>\n",
       "      <td>1.000000e+00</td>\n",
       "      <td>1.000000e+00</td>\n",
       "      <td>-1.000000e+00</td>\n",
       "    </tr>\n",
       "    <tr>\n",
       "      <th>25%</th>\n",
       "      <td>1.897400e+04</td>\n",
       "      <td>1.240000e+03</td>\n",
       "      <td>6.000000e+00</td>\n",
       "    </tr>\n",
       "    <tr>\n",
       "      <th>50%</th>\n",
       "      <td>3.679100e+04</td>\n",
       "      <td>6.213000e+03</td>\n",
       "      <td>7.000000e+00</td>\n",
       "    </tr>\n",
       "    <tr>\n",
       "      <th>75%</th>\n",
       "      <td>5.475700e+04</td>\n",
       "      <td>1.409300e+04</td>\n",
       "      <td>9.000000e+00</td>\n",
       "    </tr>\n",
       "    <tr>\n",
       "      <th>max</th>\n",
       "      <td>7.351600e+04</td>\n",
       "      <td>3.451900e+04</td>\n",
       "      <td>1.000000e+01</td>\n",
       "    </tr>\n",
       "  </tbody>\n",
       "</table>\n",
       "</div>"
      ],
      "text/plain": [
       "            user_id      anime_id        rating\n",
       "count  7.813737e+06  7.813737e+06  7.813737e+06\n",
       "mean   3.672796e+04  8.909072e+03  6.144030e+00\n",
       "std    2.099795e+04  8.883950e+03  3.727800e+00\n",
       "min    1.000000e+00  1.000000e+00 -1.000000e+00\n",
       "25%    1.897400e+04  1.240000e+03  6.000000e+00\n",
       "50%    3.679100e+04  6.213000e+03  7.000000e+00\n",
       "75%    5.475700e+04  1.409300e+04  9.000000e+00\n",
       "max    7.351600e+04  3.451900e+04  1.000000e+01"
      ]
     },
     "execution_count": 17,
     "metadata": {},
     "output_type": "execute_result"
    }
   ],
   "source": [
    "user.describe()"
   ]
  },
  {
   "cell_type": "markdown",
   "id": "31f1754b-946c-44e7-b73d-4a6b637cb470",
   "metadata": {},
   "source": [
    "Evaluating the descriptive statistics in 'anime' dataset by comparing the difference between the mean and median (50%) values, I found that the data is slightly skewed in the feature 'rating', but highly skewed in the 'members' feature. This indicates that the data in these two columns do not follow a normal distribution. The 'anime_id' feature was not considered as it represents unique values to identify anime.\n",
    "\n",
    "Considering the 'user' dataset the feature 'rating' is slightly skewed, thus do not follow a normal distribution. The features 'used_id' and 'anime_id' were not considered as they represent unique values to identify users and anime."
   ]
  },
  {
   "cell_type": "markdown",
   "id": "12e5f2a0-5eac-4e0e-af72-70882d8f9670",
   "metadata": {},
   "source": [
    "Below I will plot the histograms to see the distributions for 'rating' and 'members' from 'anime' dataset, and 'rating' from 'user' dataset. \n",
    "\n",
    "I chose this type of chart because the distribution of data can be easily visualised, with the frequency or count of observations displayed in each interval (bins) (seaborn.pydata.org, n.d.)"
   ]
  },
  {
   "cell_type": "code",
   "execution_count": 20,
   "id": "f6327559-9c9e-4a4f-ab0a-0eda3fdd2fad",
   "metadata": {},
   "outputs": [
    {
     "data": {
      "image/png": "[encoded data removed]",
      "text/plain": [
       "<Figure size 1500x500 with 3 Axes>"
      ]
     },
     "metadata": {},
     "output_type": "display_data"
    }
   ],
   "source": [
    "fig, axs = plt.subplots(1, 3, figsize=(15, 5))\n",
    "\n",
    "sns.histplot(data=anime, x=\"rating\", bins=20, color='#6495ed', ax=axs[0])\n",
    "axs[0].set_xlabel(\"Rating-anime\", fontsize=14)\n",
    "axs[0].set_ylabel(\"Count\", fontsize=14)\n",
    "axs[0].tick_params(axis='x', labelsize=14)\n",
    "axs[0].tick_params(axis='y', labelsize=14)\n",
    "\n",
    "sns.histplot(data=anime, x=\"members\", bins=20, color='#6495ed', ax=axs[1])\n",
    "axs[1].set_xlabel(\"Members\", fontsize=14)\n",
    "axs[1].set_ylabel(\"Count\", fontsize=14)\n",
    "axs[1].tick_params(axis='x', labelsize=14)\n",
    "axs[1].tick_params(axis='y', labelsize=14)\n",
    "\n",
    "sns.histplot(data=user, x=\"rating\", bins=20, color='#483d8b', ax=axs[2])\n",
    "axs[2].set_xlabel(\"Rating-user\", fontsize=14)\n",
    "axs[2].set_ylabel(\"Count\", fontsize=14)\n",
    "axs[2].tick_params(axis='x', labelsize=14)\n",
    "axs[2].tick_params(axis='y', labelsize=14)\n",
    "\n",
    "plt.tight_layout()\n",
    "plt.show()"
   ]
  },
  {
   "cell_type": "markdown",
   "id": "d454596d-c851-4800-9676-0fc2bd5d8353",
   "metadata": {},
   "source": [
    "#### Checking for missing values and duplicates\n",
    "I will use the '.isnull()' and '.sum()' functions to verify the presence of missing values in both datasets. Additionally, I will check for duplicates using the '.duplicated().sum()' function. These procedures are essential for ensuring data quality when performing statistical analysis, visualization, and modeling. Without them, the results can be unreliable and inaccurate, potentially leading to incorrect decisions.\n",
    "\n",
    "As seen in the results, the 'user' dataset does not contain any missing values. However, the 'anime' dataset exhibits 2.25% missing values. Considering this proportion is not substantial, I have decided to remove them."
   ]
  },
  {
   "cell_type": "code",
   "execution_count": 22,
   "id": "5a1014de-4121-4708-ac37-91d058edbc6c",
   "metadata": {},
   "outputs": [
    {
     "data": {
      "text/plain": [
       "anime_id      0\n",
       "name          0\n",
       "genre        62\n",
       "type         25\n",
       "episodes      0\n",
       "rating      230\n",
       "members       0\n",
       "dtype: int64"
      ]
     },
     "execution_count": 22,
     "metadata": {},
     "output_type": "execute_result"
    }
   ],
   "source": [
    "anime.isnull().sum() "
   ]
  },
  {
   "cell_type": "code",
   "execution_count": 23,
   "id": "d2d0a2ec-3cb2-4fcb-975e-432accf34be7",
   "metadata": {},
   "outputs": [
    {
     "data": {
      "text/plain": [
       "user_id     0\n",
       "anime_id    0\n",
       "rating      0\n",
       "dtype: int64"
      ]
     },
     "execution_count": 23,
     "metadata": {},
     "output_type": "execute_result"
    }
   ],
   "source": [
    "user.isnull().sum()"
   ]
  },
  {
   "cell_type": "markdown",
   "id": "3824235c-6303-49d3-956f-1fddb565c81f",
   "metadata": {},
   "source": [
    " will use the Missingno library to visually represent the missing values."
   ]
  },
  {
   "cell_type": "code",
   "execution_count": 25,
   "id": "1c2ffada-3cbe-475e-88d5-d5149f70233a",
   "metadata": {},
   "outputs": [
    {
     "data": {
      "text/plain": [
       "<Axes: >"
      ]
     },
     "execution_count": 25,
     "metadata": {},
     "output_type": "execute_result"
    },
    {
     "data": {
      "image/png": "[encoded data removed]",
      "text/plain": [
       "<Figure size 2500x1000 with 2 Axes>"
      ]
     },
     "metadata": {},
     "output_type": "display_data"
    }
   ],
   "source": [
    "msno.matrix(anime, color=(0.5, 0.4, 0.6))"
   ]
  },
  {
   "cell_type": "markdown",
   "id": "f9e4bb48-dc37-49f6-a052-c7115ceefa08",
   "metadata": {},
   "source": [
    "Removing missing values with the 'dropna()' function."
   ]
  },
  {
   "cell_type": "code",
   "execution_count": 27,
   "id": "8a5d16f7-d209-4ae9-81ea-f267cfa55762",
   "metadata": {},
   "outputs": [],
   "source": [
    "anime.dropna(axis=0, inplace=True)"
   ]
  },
  {
   "cell_type": "code",
   "execution_count": 28,
   "id": "bc2f98a2-cea5-4a67-aa08-21e1efd13657",
   "metadata": {},
   "outputs": [
    {
     "data": {
      "text/plain": [
       "anime_id    0\n",
       "name        0\n",
       "genre       0\n",
       "type        0\n",
       "episodes    0\n",
       "rating      0\n",
       "members     0\n",
       "dtype: int64"
      ]
     },
     "execution_count": 28,
     "metadata": {},
     "output_type": "execute_result"
    }
   ],
   "source": [
    "anime.isnull().sum()"
   ]
  },
  {
   "cell_type": "code",
   "execution_count": 29,
   "id": "4dea7708-3855-4c12-92a3-7f25e242388e",
   "metadata": {},
   "outputs": [
    {
     "data": {
      "text/plain": [
       "(12017, 7)"
      ]
     },
     "execution_count": 29,
     "metadata": {},
     "output_type": "execute_result"
    }
   ],
   "source": [
    "anime.shape"
   ]
  },
  {
   "cell_type": "markdown",
   "id": "0a69f0cb-2623-45ed-8a4c-8fb575d760b3",
   "metadata": {},
   "source": [
    "#### Checking for duplicates\n",
    "\n",
    "As we can see below there were no duplicates in the 'anime' dataset, but there is 1 duplicate in the 'user' dataset that was removed using the '.drop_duplicates()' function."
   ]
  },
  {
   "cell_type": "code",
   "execution_count": 31,
   "id": "76c17fea-f141-4f70-91a1-7b1d18c8f646",
   "metadata": {},
   "outputs": [
    {
     "data": {
      "text/plain": [
       "0"
      ]
     },
     "execution_count": 31,
     "metadata": {},
     "output_type": "execute_result"
    }
   ],
   "source": [
    "anime.duplicated().sum()"
   ]
  },
  {
   "cell_type": "code",
   "execution_count": 32,
   "id": "cd90b622-5379-4fe4-9b2a-8342d026b666",
   "metadata": {},
   "outputs": [
    {
     "data": {
      "text/plain": [
       "1"
      ]
     },
     "execution_count": 32,
     "metadata": {},
     "output_type": "execute_result"
    }
   ],
   "source": [
    "user.duplicated().sum()"
   ]
  },
  {
   "cell_type": "code",
   "execution_count": 33,
   "id": "f6b4adea-5ec8-45b5-bafa-c345d224f999",
   "metadata": {},
   "outputs": [],
   "source": [
    "user.drop_duplicates(inplace=True)"
   ]
  },
  {
   "cell_type": "code",
   "execution_count": 34,
   "id": "0f4302ac-6381-403f-83e6-d3ff3cb30784",
   "metadata": {},
   "outputs": [
    {
     "data": {
      "text/plain": [
       "0"
      ]
     },
     "execution_count": 34,
     "metadata": {},
     "output_type": "execute_result"
    }
   ],
   "source": [
    "user.duplicated().sum()"
   ]
  },
  {
   "cell_type": "markdown",
   "id": "b8dda78f-8a73-432c-8d15-e3eb828c2226",
   "metadata": {},
   "source": [
    "#### Checking for outliers\n",
    "\n",
    "I will check for outliers and verify if I can remove them without losing the data integrity.\r\n",
    "As we can see below, the removal of outliers will be impossible since the entire dataset has been considered outliers. Even when I reduced the threshold to 0.00005, the number of outliers continued to be high In addition, it seems that the outliers are simply part of the natural variation in the dataset, as they fall within the expected range of rating values from 0 to 10. See the  boxplot (below).. Therefore, I have decided not to remove outliers."
   ]
  },
  {
   "cell_type": "markdown",
   "id": "db06a041-8053-4e83-883a-69f55d9f1f40",
   "metadata": {},
   "source": [
    "I will not used the 'members' variable from 'anime' because it only provides records about the number of members per anime."
   ]
  },
  {
   "cell_type": "code",
   "execution_count": 37,
   "id": "abeb1e97-3fc9-413a-bb15-271f35597f6a",
   "metadata": {},
   "outputs": [],
   "source": [
    "Q1_a = anime[['rating']].quantile(0.25)\n",
    "Q3_a = anime[['rating']].quantile(0.75)\n",
    "IQR_a = Q3_a - Q1_a"
   ]
  },
  {
   "cell_type": "code",
   "execution_count": 38,
   "id": "70d936df-53c4-4c25-8041-86a1611535eb",
   "metadata": {},
   "outputs": [],
   "source": [
    "left, right = anime.align((Q1_a-1.5*IQR_a), axis=1, copy=False)\n",
    "left, right = left.align((Q3_a+1.5*IQR_a), axis=1, copy=False)\n",
    "outliers_a = anime[~((left < right).any(axis=1))]"
   ]
  },
  {
   "cell_type": "code",
   "execution_count": 39,
   "id": "1028c338-7af7-4b81-9dd4-b80adb770498",
   "metadata": {},
   "outputs": [
    {
     "data": {
      "text/plain": [
       "(12, 7)"
      ]
     },
     "execution_count": 39,
     "metadata": {},
     "output_type": "execute_result"
    }
   ],
   "source": [
    "outliers_a.shape"
   ]
  },
  {
   "cell_type": "code",
   "execution_count": 40,
   "id": "2812f59f-6191-4192-81a1-56f4d37a4173",
   "metadata": {},
   "outputs": [],
   "source": [
    "Q1_r = user[['rating']].quantile(0.25)\n",
    "Q3_r = user[['rating']].quantile(0.75)\n",
    "IQR_r = Q3_r - Q1_r"
   ]
  },
  {
   "cell_type": "code",
   "execution_count": 41,
   "id": "e833b31a-ed1e-42af-b110-6a9b8c2ab02e",
   "metadata": {},
   "outputs": [],
   "source": [
    "left, right = user.align((Q1_r-1.5*IQR_r), axis=1, copy=False)\n",
    "left, right = left.align((Q3_r+1.5*IQR_r), axis=1, copy=False)\n",
    "outliers_r = user[~((left < right).any(axis=1))]"
   ]
  },
  {
   "cell_type": "code",
   "execution_count": 42,
   "id": "2871b640-6ae5-4118-9f17-a2cac46be470",
   "metadata": {},
   "outputs": [
    {
     "data": {
      "text/plain": [
       "(0, 3)"
      ]
     },
     "execution_count": 42,
     "metadata": {},
     "output_type": "execute_result"
    }
   ],
   "source": [
    "outliers_r.shape"
   ]
  },
  {
   "cell_type": "code",
   "execution_count": 43,
   "id": "3f33fca1-3537-4085-af07-b825d88dfe35",
   "metadata": {},
   "outputs": [
    {
     "data": {
      "image/png": "[encoded data removed]",
      "text/plain": [
       "<Figure size 1000x500 with 2 Axes>"
      ]
     },
     "metadata": {},
     "output_type": "display_data"
    }
   ],
   "source": [
    "fig, axs = plt.subplots(1, 2, figsize=(10, 5))\n",
    "\n",
    "sns.boxplot(data=anime[['rating']], color='#6495ed', ax=axs[0])\n",
    "axs[0].set_ylim(bottom=-2, top=12)  \n",
    "axs[0].set_title('Rating - anime')\n",
    "axs[0].set_xlabel('Rating', fontsize=14)\n",
    "axs[0].set_ylabel('Values', fontsize=14)\n",
    "\n",
    "sns.boxplot(data=user[['rating']], color='#483d8b', ax=axs[1])\n",
    "axs[1].set_ylim(bottom=-2, top=12) \n",
    "axs[1].set_title('Rating - user')\n",
    "axs[1].set_xlabel('Rating', fontsize=14)\n",
    "axs[1].set_ylabel('Values', fontsize=14)\n",
    "\n",
    "plt.show()"
   ]
  },
  {
   "cell_type": "markdown",
   "id": "9231c1bf-1fdb-4f57-a9b2-5c5d56623632",
   "metadata": {},
   "source": [
    "##### Insights from dataset 'anime'\n",
    "\n",
    "Three questions were proposed to gain insights from this dataset. These questions are:\n",
    "\n",
    "- What are the top anime genres?\r",
    "- \n",
    "What are the type of anime media availabl?\n",
    "- \r\n",
    "What are the top 10 anime with the highest rating?"
   ]
  },
  {
   "cell_type": "markdown",
   "id": "9dac1b10-7001-4691-be77-429c208c044d",
   "metadata": {},
   "source": [
    "#### What are the top anime genres?"
   ]
  },
  {
   "cell_type": "code",
   "execution_count": 46,
   "id": "8ca7b50d-fcb0-4bee-9bd8-7f642e2eb850",
   "metadata": {},
   "outputs": [],
   "source": [
    "# Assuming anime is your DataFrame with a column named 'genre'\n",
    "genres = anime['genre'].str.split(', ').explode().str.strip()\n",
    "\n",
    "# Count genre occurrences\n",
    "genre_counts = Counter(genres)\n",
    "\n",
    "# Sort genres by count\n",
    "sorted_genres = sorted(genre_counts.items(), key=lambda x: x[1], reverse=True)\n",
    "genres_sorted, counts_sorted = zip(*sorted_genres)"
   ]
  },
  {
   "cell_type": "code",
   "execution_count": 47,
   "id": "c01b1e93-ce38-499c-851d-ab4bc9f17e74",
   "metadata": {},
   "outputs": [
    {
     "data": {
      "image/png": "[encoded data removed]",
      "text/plain": [
       "<Figure size 1200x600 with 1 Axes>"
      ]
     },
     "metadata": {},
     "output_type": "display_data"
    }
   ],
   "source": [
    "plt.figure(figsize=(12, 6))\n",
    "plt.bar(genres_sorted, counts_sorted, color='#ac81ec')\n",
    "plt.ylim(bottom=0, top=5000) \n",
    "plt.title('Genre Distribution', fontsize=16)\n",
    "plt.xlabel('Genre', fontsize=14)\n",
    "plt.ylabel('Count', fontsize=14)\n",
    "plt.xticks(rotation=45, ha='right')\n",
    "plt.tight_layout()\n",
    "plt.show()"
   ]
  },
  {
   "cell_type": "markdown",
   "id": "00a9b49e-cad5-4b0a-adb7-c50bfaa8833f",
   "metadata": {},
   "source": [
    "#### What are the type of anime media available?"
   ]
  },
  {
   "cell_type": "code",
   "execution_count": 49,
   "id": "e58e235c-163b-4462-9d25-57f4cea3ffdf",
   "metadata": {},
   "outputs": [],
   "source": [
    "# Group by the 'type' column and count the occurrences of each type\n",
    "type_count = anime['type'].value_counts()\n",
    "\n",
    "# Convert the series to a DataFrame and reset the index to make 'type' a column\n",
    "type_count_df = type_count.reset_index()\n",
    "\n",
    "# Rename the columns to 'type' and 'count'\n",
    "type_count_df.columns = ['type', 'count']"
   ]
  },
  {
   "cell_type": "code",
   "execution_count": 50,
   "id": "514098e8-7b39-477d-97ff-38abd23a1529",
   "metadata": {},
   "outputs": [
    {
     "data": {
      "image/png": "[encoded data removed]",
      "text/plain": [
       "<Figure size 600x500 with 1 Axes>"
      ]
     },
     "metadata": {},
     "output_type": "display_data"
    }
   ],
   "source": [
    "plt.figure(figsize=(6, 5))\n",
    "plt.plot(type_count_df['type'], type_count_df['count'], marker='o', linestyle='-', color='#ac81ec')\n",
    "plt.ylim(bottom=0, top=4000)\n",
    "plt.ylabel('Count', fontsize=14)\n",
    "plt.title('Rank of Anime Types', fontsize=16)\n",
    "plt.xticks(fontsize=14)\n",
    "plt.yticks(fontsize=12)\n",
    "plt.tight_layout()\n",
    "plt.show()"
   ]
  },
  {
   "cell_type": "markdown",
   "id": "092790bf-1d8f-45fb-b25e-e256505b2e89",
   "metadata": {},
   "source": [
    "#### What are the top 10 anime with the highest ratings?"
   ]
  },
  {
   "cell_type": "code",
   "execution_count": 52,
   "id": "77c30083-fdd6-4c3c-992d-3ecbd3e87638",
   "metadata": {},
   "outputs": [],
   "source": [
    "# Sort the DataFrame by 'rating' column in descending order and select top 10\n",
    "top_10_anime = anime.sort_values(by='rating', ascending=False).head(10)"
   ]
  },
  {
   "cell_type": "code",
   "execution_count": 53,
   "id": "ef69af33-23df-48ff-8773-c8722004e229",
   "metadata": {},
   "outputs": [
    {
     "data": {
      "image/png": "[encoded data removed]",
      "text/plain": [
       "<Figure size 1400x800 with 1 Axes>"
      ]
     },
     "metadata": {},
     "output_type": "display_data"
    }
   ],
   "source": [
    "# Create a bar plot\n",
    "plt.figure(figsize=(14, 8))\n",
    "bars = plt.barh(top_10_anime['name'], top_10_anime['rating'], color='#ac81ec')\n",
    "\n",
    "# Put the value of each bar on the plot\n",
    "for bar in bars:\n",
    "    plt.text(bar.get_width(), bar.get_y() + bar.get_height()/2, f'{bar.get_width():.2f}',\n",
    "             va='center', ha='left', fontsize=13)\n",
    "plt.xlabel('Rating', fontsize=14)\n",
    "plt.title('Top 10 Anime with Highest Ratings', fontsize=16)\n",
    "plt.xticks(fontsize=14)\n",
    "plt.yticks(fontsize=14)\n",
    "plt.gca().invert_yaxis()\n",
    "plt.show()"
   ]
  },
  {
   "cell_type": "markdown",
   "id": "b99353d0-f40e-4961-8686-e6a837f384a7",
   "metadata": {},
   "source": [
    "**Conclusion**\n",
    "\n",
    "The analysis resulted in the top anime genres being 'Comedy', followed by 'Action' and 'Adventure', with the most available anime media being 'TV' and 'OVA' (Original Video Animations) — special episodes made separately from the rest of the season episodes in an anime series.\r\n",
    "\r\n",
    "When considering the top 10 anime with the highest ratings, we can observe that all of them have similar ratings, but the anime called 'Taka no Tsume 8: Yoshida-kun no X-Files' was the only one to achieve a rating of 10.\r\n",
    "\r\n",
    "Therefore, if I had to suggest some anime for a website to a new user who does not have any viewing history yet, I would suggest at least one representative of each genre ('Comedy', 'Action', and 'Adventure'), as well as from the 'TV' and 'OVA' media categories. Additionally, I would recommend all of the top 10 anime with the highest ratings.\r\n",
    "\r\n",
    "I believe that this approach may guarantee that new users get a variety of options to explore, catering to different preferences and interests. This could be a great way to introduce someone to anime, especially if they're just starting out and don't have a viewing history yet."
   ]
  },
  {
   "cell_type": "markdown",
   "id": "783dedb6-0188-4604-936b-5e32f5689367",
   "metadata": {},
   "source": [
    "# Machine learning models"
   ]
  },
  {
   "cell_type": "markdown",
   "id": "6f977060-3609-4d19-a450-16dabdb82a95",
   "metadata": {},
   "source": [
    "## Content Filtering\n",
    "\n",
    "This technique creates a user profile based on metadata (e.g., genre, actors, directors) provided either directly (explicit feedback) or indirectly (implicit feedback) by the user. Explicit feedback can include ratings given to a product, while implicit feedback can include browsing history or purchase behaviour. This information is then used to recommend products or services similar to those the user has shown a preference for (Patel, Patel, and Chauhan, 2023, p. 852).\n",
    "\n",
    "For the content-based filtering, I will use the anime genre to create a user profile and recommend anime."
   ]
  },
  {
   "cell_type": "markdown",
   "id": "4a0f1f84-deeb-4c8c-a5e7-2a8850476dbd",
   "metadata": {},
   "source": [
    "Below, I will display the first 5 records in the features 'name' and 'genre' to have a quick overview of these entries."
   ]
  },
  {
   "cell_type": "code",
   "execution_count": 58,
   "id": "fc9d1c70-bea2-497f-89f3-cd4c21a855ad",
   "metadata": {},
   "outputs": [
    {
     "data": {
      "text/html": [
       "<div>\n",
       "<style scoped>\n",
       "    .dataframe tbody tr th:only-of-type {\n",
       "        vertical-align: middle;\n",
       "    }\n",
       "\n",
       "    .dataframe tbody tr th {\n",
       "        vertical-align: top;\n",
       "    }\n",
       "\n",
       "    .dataframe thead th {\n",
       "        text-align: right;\n",
       "    }\n",
       "</style>\n",
       "<table border=\"1\" class=\"dataframe\">\n",
       "  <thead>\n",
       "    <tr style=\"text-align: right;\">\n",
       "      <th></th>\n",
       "      <th>name</th>\n",
       "      <th>genre</th>\n",
       "    </tr>\n",
       "  </thead>\n",
       "  <tbody>\n",
       "    <tr>\n",
       "      <th>0</th>\n",
       "      <td>Kimi no Na wa.</td>\n",
       "      <td>Drama, Romance, School, Supernatural</td>\n",
       "    </tr>\n",
       "    <tr>\n",
       "      <th>1</th>\n",
       "      <td>Fullmetal Alchemist: Brotherhood</td>\n",
       "      <td>Action, Adventure, Drama, Fantasy, Magic, Mili...</td>\n",
       "    </tr>\n",
       "    <tr>\n",
       "      <th>2</th>\n",
       "      <td>Gintama°</td>\n",
       "      <td>Action, Comedy, Historical, Parody, Samurai, S...</td>\n",
       "    </tr>\n",
       "    <tr>\n",
       "      <th>3</th>\n",
       "      <td>Steins;Gate</td>\n",
       "      <td>Sci-Fi, Thriller</td>\n",
       "    </tr>\n",
       "    <tr>\n",
       "      <th>4</th>\n",
       "      <td>Gintama&amp;#039;</td>\n",
       "      <td>Action, Comedy, Historical, Parody, Samurai, S...</td>\n",
       "    </tr>\n",
       "  </tbody>\n",
       "</table>\n",
       "</div>"
      ],
      "text/plain": [
       "                               name  \\\n",
       "0                    Kimi no Na wa.   \n",
       "1  Fullmetal Alchemist: Brotherhood   \n",
       "2                          Gintama°   \n",
       "3                       Steins;Gate   \n",
       "4                     Gintama&#039;   \n",
       "\n",
       "                                               genre  \n",
       "0               Drama, Romance, School, Supernatural  \n",
       "1  Action, Adventure, Drama, Fantasy, Magic, Mili...  \n",
       "2  Action, Comedy, Historical, Parody, Samurai, S...  \n",
       "3                                   Sci-Fi, Thriller  \n",
       "4  Action, Comedy, Historical, Parody, Samurai, S...  "
      ]
     },
     "execution_count": 58,
     "metadata": {},
     "output_type": "execute_result"
    }
   ],
   "source": [
    "anime[['name','genre']].head(5)"
   ]
  },
  {
   "cell_type": "markdown",
   "id": "cb2d4b1c-03c6-42b1-9300-3e8d9de3ee92",
   "metadata": {},
   "source": [
    "As we observed earlier, the genres are separated by commas. In the code below, I will replace the commas with spaces to minimize interference with the TF-IDF, which I will apply here."
   ]
  },
  {
   "cell_type": "code",
   "execution_count": 60,
   "id": "dd5ac53a-71be-414c-b20a-bdc498760c13",
   "metadata": {},
   "outputs": [],
   "source": [
    "anime['genre'] = anime['genre'].str.replace(',',' ')"
   ]
  },
  {
   "cell_type": "markdown",
   "id": "0bf9d719-1823-401f-a3b5-835eadfd0513",
   "metadata": {},
   "source": [
    "#### Term Frequency and Inverse Document Frequency (TF-IDF)\n",
    "\n",
    "The purpose of using the Term Frequency-Inverse Document Frequency Method (TF-IDF) is to assign heavy weight to any term that appears frequently in a given document but not in many documents across the corpus (Müller and Guido, 2017, p.336)."
   ]
  },
  {
   "cell_type": "code",
   "execution_count": 62,
   "id": "0310764a-89cc-4d69-89d7-001f3ba20ffd",
   "metadata": {},
   "outputs": [],
   "source": [
    "anime['genre']=anime['genre'].str.replace('Sci-fi','Scifi')\n",
    "anime['genre']=anime['genre'].str.replace('Slice of Life','SoL')"
   ]
  },
  {
   "cell_type": "markdown",
   "id": "2fb813ed-bc58-428c-9d95-11bf007f86dc",
   "metadata": {},
   "source": [
    "The lines of code, below are using TfidfVectorizer to convert the genre data of anime into a numerical matrix representation, where each row corresponds to an anime and each column corresponds to a particular word (genre), with the cell values representing the importance of that word within that anime's genre description based on its TF-IDF score."
   ]
  },
  {
   "cell_type": "code",
   "execution_count": 64,
   "id": "1bb9c5d3-a182-4844-b377-5ac7ca9e1002",
   "metadata": {},
   "outputs": [],
   "source": [
    "tfidf_vector = TfidfVectorizer(stop_words='english')\n",
    "tfidf_matrix = tfidf_vector.fit_transform(anime['genre'])"
   ]
  },
  {
   "cell_type": "code",
   "execution_count": 65,
   "id": "e7635df6-4940-41af-8953-64c7b89fe723",
   "metadata": {},
   "outputs": [
    {
     "name": "stdout",
     "output_type": "stream",
     "text": [
      "[(0, 'action'), (1, 'adventure'), (2, 'ai'), (3, 'arts'), (4, 'cars'), (5, 'comedy'), (6, 'dementia'), (7, 'demons'), (8, 'drama'), (9, 'ecchi'), (10, 'fantasy'), (11, 'fi'), (12, 'game'), (13, 'harem'), (14, 'hentai'), (15, 'historical'), (16, 'horror'), (17, 'josei'), (18, 'kids'), (19, 'magic'), (20, 'martial'), (21, 'mecha'), (22, 'military'), (23, 'music'), (24, 'mystery'), (25, 'parody'), (26, 'police'), (27, 'power'), (28, 'psychological'), (29, 'romance'), (30, 'samurai'), (31, 'school'), (32, 'sci'), (33, 'seinen'), (34, 'shoujo'), (35, 'shounen'), (36, 'sol'), (37, 'space'), (38, 'sports'), (39, 'super'), (40, 'supernatural'), (41, 'thriller'), (42, 'vampire'), (43, 'yaoi'), (44, 'yuri')]\n"
     ]
    }
   ],
   "source": [
    "print(list(enumerate(tfidf_vector.get_feature_names_out())))"
   ]
  },
  {
   "cell_type": "code",
   "execution_count": 66,
   "id": "f89044f4-cc86-46dc-8749-7c11a46ea998",
   "metadata": {},
   "outputs": [
    {
     "name": "stdout",
     "output_type": "stream",
     "text": [
      "  (0, 40)\t0.5454743149673916\n",
      "  (0, 31)\t0.5202747795380636\n",
      "  (0, 29)\t0.4889208084308644\n",
      "  (0, 8)\t0.43900839236942196\n",
      "  (1, 35)\t0.35010662285037025\n",
      "  (1, 22)\t0.5212701944372773\n",
      "  (1, 19)\t0.451428025196391\n",
      "  (1, 10)\t0.32016645570292807\n",
      "  (1, 1)\t0.31628670000043674\n",
      "  (1, 0)\t0.2949852701042795\n",
      "  (1, 8)\t0.3351944652912431\n",
      "  (2, 11)\t0.2829193960514033\n",
      "  (2, 32)\t0.2829193960514033\n",
      "  (2, 30)\t0.550940370598103\n",
      "  (2, 25)\t0.4478650611654533\n",
      "  (2, 15)\t0.3783368383978905\n",
      "  (2, 5)\t0.20040192246796715\n",
      "  (2, 35)\t0.29863592161374974\n",
      "  (2, 0)\t0.25161819928702683\n",
      "  (3, 41)\t0.833852474602872\n",
      "  (3, 11)\t0.3903140085871032\n",
      "  (3, 32)\t0.3903140085871032\n",
      "  (4, 11)\t0.2829193960514033\n",
      "  (4, 32)\t0.2829193960514033\n",
      "  (4, 30)\t0.550940370598103\n",
      "  (4, 25)\t0.4478650611654533\n",
      "  (4, 15)\t0.3783368383978905\n",
      "  (4, 5)\t0.20040192246796715\n",
      "  (4, 35)\t0.29863592161374974\n",
      "  (4, 0)\t0.25161819928702683\n"
     ]
    }
   ],
   "source": [
    "print(tfidf_matrix[:5])"
   ]
  },
  {
   "cell_type": "code",
   "execution_count": 67,
   "id": "e795f294-96fa-4ad8-b1e7-663c42a69e6c",
   "metadata": {},
   "outputs": [
    {
     "data": {
      "text/plain": [
       "(12017, 45)"
      ]
     },
     "execution_count": 67,
     "metadata": {},
     "output_type": "execute_result"
    }
   ],
   "source": [
    "tfidf_matrix.shape"
   ]
  },
  {
   "cell_type": "markdown",
   "id": "af175366-54de-45b8-b02f-24b0c148f43a",
   "metadata": {},
   "source": [
    "From the above output, we can see that there are 12,017 anime (documents or samples) in the dataset and 45 unique words (features) that are being used to represent these anime."
   ]
  },
  {
   "cell_type": "code",
   "execution_count": 69,
   "id": "3928cad8-2db2-4367-acfb-d12e2cc8b286",
   "metadata": {},
   "outputs": [
    {
     "data": {
      "text/plain": [
       "array(['action', 'adventure', 'ai', 'arts', 'cars', 'comedy', 'dementia',\n",
       "       'demons', 'drama', 'ecchi', 'fantasy', 'fi', 'game', 'harem',\n",
       "       'hentai', 'historical', 'horror', 'josei', 'kids', 'magic',\n",
       "       'martial', 'mecha', 'military', 'music', 'mystery', 'parody',\n",
       "       'police', 'power', 'psychological', 'romance', 'samurai', 'school',\n",
       "       'sci', 'seinen', 'shoujo', 'shounen', 'sol', 'space', 'sports',\n",
       "       'super', 'supernatural', 'thriller', 'vampire', 'yaoi', 'yuri'],\n",
       "      dtype=object)"
      ]
     },
     "execution_count": 69,
     "metadata": {},
     "output_type": "execute_result"
    }
   ],
   "source": [
    "tfidf_vector.get_feature_names_out()[:]"
   ]
  },
  {
   "cell_type": "markdown",
   "id": "15bfdc3b-1b3e-4c09-bc2b-00151eff3e7f",
   "metadata": {},
   "source": [
    "#### Similarity score\n",
    "\n",
    "I will use the the cosine similarity to calculate a numeric quantity that denotes the similarity between two animes, as it is independent of magnitude and is relatively easy and fast to calculate, especially when used with TF-IDF scores The cosine similarity is frequently used in the text domain because of its ability to adjust to the varying lengths of the underlying documents (Aggarwal and Springer International Publishing Ag, 2018, p.151)."
   ]
  },
  {
   "cell_type": "markdown",
   "id": "6d6439ba-fb82-4d85-883a-91f88fe5d065",
   "metadata": {},
   "source": [
    "The code below computes the cosine similarity matrix using the TF-IDF matrix calculated previously."
   ]
  },
  {
   "cell_type": "code",
   "execution_count": 72,
   "id": "bd496e9d-a64d-4acb-a189-16d259cc8137",
   "metadata": {},
   "outputs": [],
   "source": [
    "cosine_sim = linear_kernel(tfidf_matrix[:], tfidf_matrix[:])"
   ]
  },
  {
   "cell_type": "code",
   "execution_count": 73,
   "id": "c837d804-21dd-4e2a-b128-56ea09621162",
   "metadata": {},
   "outputs": [
    {
     "data": {
      "text/plain": [
       "(12017, 12017)"
      ]
     },
     "execution_count": 73,
     "metadata": {},
     "output_type": "execute_result"
    }
   ],
   "source": [
    "cosine_sim.shape"
   ]
  },
  {
   "cell_type": "code",
   "execution_count": 74,
   "id": "81e84cd9-047a-42f1-a9fd-34e908542d8b",
   "metadata": {},
   "outputs": [
    {
     "data": {
      "text/plain": [
       "array([[1.        , 0.14715318, 0.        , ..., 0.        , 0.        ,\n",
       "        0.        ],\n",
       "       [0.14715318, 1.        , 0.17877808, ..., 0.        , 0.        ,\n",
       "        0.        ],\n",
       "       [0.        , 0.17877808, 1.        , ..., 0.        , 0.        ,\n",
       "        0.        ],\n",
       "       ...,\n",
       "       [0.        , 0.        , 0.        , ..., 1.        , 1.        ,\n",
       "        1.        ],\n",
       "       [0.        , 0.        , 0.        , ..., 1.        , 1.        ,\n",
       "        1.        ],\n",
       "       [0.        , 0.        , 0.        , ..., 1.        , 1.        ,\n",
       "        1.        ]])"
      ]
     },
     "execution_count": 74,
     "metadata": {},
     "output_type": "execute_result"
    }
   ],
   "source": [
    "cosine_sim[:]"
   ]
  },
  {
   "cell_type": "markdown",
   "id": "fb460290-157c-4db9-945e-9ce708e2fc79",
   "metadata": {},
   "source": [
    "We can see above the matrix containing all the computed similarities."
   ]
  },
  {
   "cell_type": "markdown",
   "id": "1010a0e6-14c8-4e38-be3a-173bdf2d2f56",
   "metadata": {},
   "source": [
    "To facilitate the use of this data, I will create a map between anime names and their corresponding index labels in the DataFrame.\n",
    "\n",
    "The 'indices[:10]' gives the first 10 entries in that mapping. It represents the first 10 anime names in the DataFrame along with their corresponding index labels."
   ]
  },
  {
   "cell_type": "code",
   "execution_count": 77,
   "id": "d79088a3-0d1f-4eb7-9fc1-c0c1cfebb471",
   "metadata": {},
   "outputs": [
    {
     "data": {
      "text/plain": [
       "name\n",
       "Kimi no Na wa.                                               0\n",
       "Fullmetal Alchemist: Brotherhood                             1\n",
       "Gintama°                                                     2\n",
       "Steins;Gate                                                  3\n",
       "Gintama&#039;                                                4\n",
       "Haikyuu!!: Karasuno Koukou VS Shiratorizawa Gakuen Koukou    5\n",
       "Hunter x Hunter (2011)                                       6\n",
       "Ginga Eiyuu Densetsu                                         7\n",
       "Gintama Movie: Kanketsu-hen - Yorozuya yo Eien Nare          8\n",
       "Gintama&#039;: Enchousen                                     9\n",
       "dtype: int64"
      ]
     },
     "execution_count": 77,
     "metadata": {},
     "output_type": "execute_result"
    }
   ],
   "source": [
    "indices = pd.Series(anime.index, index=anime['name']).drop_duplicates()\n",
    "indices[:10]"
   ]
  },
  {
   "cell_type": "markdown",
   "id": "79c8050e-e024-4b71-b94d-2e13afa05acc",
   "metadata": {},
   "source": [
    "The function below is tailored for anime recommendations, delivering the top 10 anime titles as output. It calculates similarity scores between the input anime and all other anime using cosine similarity, sorts these scores to identify the most similar ones, and then presents the titles of the top 10 similar anime."
   ]
  },
  {
   "cell_type": "code",
   "execution_count": 79,
   "id": "cfe02aab-f8b4-4ec3-80e2-dad533f7b0c3",
   "metadata": {},
   "outputs": [],
   "source": [
    "def get_recommendations(name, cosine_sim=cosine_sim):\n",
    "    idx = indices[name]\n",
    "    sim_scores = list(enumerate(cosine_sim[idx]))\n",
    "    sim_scores = sorted(sim_scores, key=lambda x: x[1], reverse=True)\n",
    "    sim_scores = sim_scores[1:11]\n",
    "    anime_indices = [i[0] for i in sim_scores]\n",
    "    return anime['name'].iloc[anime_indices]"
   ]
  },
  {
   "cell_type": "code",
   "execution_count": 80,
   "id": "2804dee8-7822-4a9f-a3c5-5dec73284c58",
   "metadata": {},
   "outputs": [
    {
     "data": {
      "text/plain": [
       "206                                         Dragon Ball Z\n",
       "515                                Dragon Ball Kai (2014)\n",
       "588                                       Dragon Ball Kai\n",
       "1409                Dragon Ball Z Movie 15: Fukkatsu no F\n",
       "1930                                    Dragon Ball Super\n",
       "3203               Dragon Ball Z: Summer Vacation Special\n",
       "4275                 Dragon Ball Z: Atsumare! Gokuu World\n",
       "4314    Dragon Ball GT: Goku Gaiden! Yuuki no Akashi w...\n",
       "5999    Dragon Ball Z Movie 11: Super Senshi Gekiha!! ...\n",
       "1227                 Dragon Ball Z Movie 14: Kami to Kami\n",
       "Name: name, dtype: object"
      ]
     },
     "execution_count": 80,
     "metadata": {},
     "output_type": "execute_result"
    }
   ],
   "source": [
    "get_recommendations('Dragon Ball')"
   ]
  },
  {
   "cell_type": "markdown",
   "id": "22b72738-0cfd-4c70-9ec6-5a985c20f566",
   "metadata": {},
   "source": [
    "**Result**\n",
    "\n",
    "After applying Content-based filtering, we observe that if a user watches 'Dragon Ball', these anime titles (above) would be recommended to the user based on the content filtering method implemented in the get_recommendations function, which assesses similarity between 'Dragon Ball' and these anime titles. Based on the anime names, we can see that they are quite similar, suggesting good recommender performance."
   ]
  },
  {
   "cell_type": "markdown",
   "id": "82dab502-911e-4d65-b07c-2a06bb88cb9a",
   "metadata": {},
   "source": [
    "---"
   ]
  },
  {
   "cell_type": "markdown",
   "id": "8bf97232-959a-4ea8-acb2-2592bdb99b2e",
   "metadata": {},
   "source": [
    "## Collaborative Filtering\n",
    "\n",
    "The collaborative filtering is widely implemented, especially in e-commerce sites, and this technique works by identifying similarities between users and recommending items based on what similar users have liked or purchased in the past (Ricci et al., 2015, p.12,13)."
   ]
  },
  {
   "cell_type": "markdown",
   "id": "79484f2d-6d21-4b8c-ac47-74e31cb1f18b",
   "metadata": {},
   "source": [
    "### Considering a specific genre: 'Thriller'"
   ]
  },
  {
   "cell_type": "markdown",
   "id": "a792db77-051b-4871-9d34-55deecd8fb26",
   "metadata": {},
   "source": [
    "Given the substantial size of the 'user' dataset, boasting over 7.8 million records, I have opted to narrow down to a specific genre, 'Thriller', for user-user and item-item collaborative filtering. This strategic move aims to streamline computational demands and processing time.\r\n",
    "\r\n",
    "To implement this, I'll first filter the 'anime' dataset to isolate the 'Thriller' genre. Subsequently, leveraging the 'anime_id,' I'll refine the 'user' dataset to include only entries corresponding to this genre. Finally, I'll eliminate any '-1' ratings attributed to users who did not provide ratings."
   ]
  },
  {
   "cell_type": "code",
   "execution_count": 86,
   "id": "32ef2afd-be5f-497a-bd3d-3c6ac56f3a85",
   "metadata": {},
   "outputs": [],
   "source": [
    "thriller_anime = anime[anime['genre'].str.contains('Thriller', case=False, na=False)]\n",
    "thriller_anime_ids = thriller_anime['anime_id']\n",
    "filtered_user_df = user[user['anime_id'].isin(thriller_anime_ids)]"
   ]
  },
  {
   "cell_type": "code",
   "execution_count": 87,
   "id": "b92d6a26-bf4a-4b94-ae7e-00f8f8f33fb1",
   "metadata": {},
   "outputs": [],
   "source": [
    "filtered_user_df = filtered_user_df[filtered_user_df['rating'] != -1]\n",
    "filtered_user_df.reset_index(drop=True, inplace=True)"
   ]
  },
  {
   "cell_type": "markdown",
   "id": "b0578f85-ce20-410c-b283-4f38f97dae03",
   "metadata": {},
   "source": [
    "Below, we can see 50,778 rated anime that belong to the thriller genre, with 82 anime receiving ratings ranging from 1 to 10 from users."
   ]
  },
  {
   "cell_type": "code",
   "execution_count": 89,
   "id": "9c3f17cc-6fe8-4065-b8ae-ec5fe8a14b48",
   "metadata": {},
   "outputs": [
    {
     "name": "stdout",
     "output_type": "stream",
     "text": [
      "\"user\" dataset:\n",
      "Number of unique user_id:  50778\n",
      "Number of unique anime_id:  82\n",
      "Number of unique rating:  10\n"
     ]
    }
   ],
   "source": [
    "print('\"user\" dataset:')\n",
    "print('Number of unique user_id: ', len(filtered_user_df['user_id'].unique()))\n",
    "print('Number of unique anime_id: ', len(filtered_user_df['anime_id'].unique()))\n",
    "print('Number of unique rating: ', len(filtered_user_df['rating'].unique()))"
   ]
  },
  {
   "cell_type": "markdown",
   "id": "df521ec5-e581-4fab-80df-21f2e444005b",
   "metadata": {},
   "source": [
    "I will split the dataset into training and testing subsets. To prevent overfitting and evaluate the generalization results, cross-validation with Stratified k folds will be applied. Although typically used for classification tasks, Stratified k-fold cross-validation ensures that each fold retains a proportional representation of user interactions, which is crucial for collaborative filtering tasks like in this project. Additionally, I will set a threshold of 10 to include only users with at least 10 ratings/interactions. This step aims to focus on more active users while maintaining consistency in the evaluation process."
   ]
  },
  {
   "cell_type": "code",
   "execution_count": 91,
   "id": "61b03184-1bd0-4285-88a0-ac71d8f97940",
   "metadata": {
    "scrolled": true
   },
   "outputs": [
    {
     "name": "stdout",
     "output_type": "stream",
     "text": [
      "\n",
      "Fold: 1\n",
      "TRAIN: [     0      1      2 ... 157141 157143 157144]  having: 104763\n",
      "TEST: [     4      5     14 ... 157134 157137 157142]  having: 52382\n",
      "\n",
      "Fold: 2\n",
      "TRAIN: [     0      1      3 ... 157138 157142 157144]  having: 104763\n",
      "TEST: [     2      8     10 ... 157140 157141 157143]  having: 52382\n",
      "\n",
      "Fold: 3\n",
      "TRAIN: [     2      4      5 ... 157141 157142 157143]  having: 104764\n",
      "TEST: [     0      1      3 ... 157131 157138 157144]  having: 52381\n"
     ]
    }
   ],
   "source": [
    "X = filtered_user_df.copy()\n",
    "y = filtered_user_df['rating']\n",
    "\n",
    "threshold = 10\n",
    "\n",
    "interactions_per_user = X['user_id'].value_counts()\n",
    "valid_users = interactions_per_user[interactions_per_user >= threshold].index\n",
    "X_filtered = X[X['user_id'].isin(valid_users)]\n",
    "y_filtered = y[X['user_id'].isin(valid_users)]\n",
    "\n",
    "skf = StratifiedKFold(n_splits=3, shuffle=True, random_state=37)\n",
    "\n",
    "# Stratified K-Fold cross-validation\n",
    "for i, (train_index, test_index) in enumerate(skf.split(X_filtered, y_filtered)):\n",
    "    print(\"\\nFold:\", i + 1)\n",
    "    print(\"TRAIN:\", train_index, \" having:\", len(train_index))\n",
    "    print(\"TEST:\", test_index, \" having:\", len(test_index))\n",
    "\n",
    "    X_train, X_test = X_filtered.iloc[train_index], X_filtered.iloc[test_index]\n",
    "    y_train, y_test = y_filtered.iloc[train_index], y_filtered.iloc[test_index]"
   ]
  },
  {
   "cell_type": "markdown",
   "id": "db9f0693-80ae-4dcc-9827-9b561de74e3f",
   "metadata": {},
   "source": [
    "#### Sparse Rating Matrix\n",
    "\n",
    "Below, a sparse matrix (dataframe) is created using the '.pivot()' function. In this matrix, we have 'user_id' in the rows, 'anime_id' in the columns, and in the cells are the values given by the user to a specific 'anime_id'. This matrix uses the 'X_train' set. The NaN values were replaced with zeros since many algorithms cannot handle NaN values, resulting in inconsistency and loss of computational performance. \n",
    "\n",
    "Therefore, the use of a sparse matrix is important for making recommendations using the collaborative method, as it efficiently represents user-item interactions, thereby reducing memory and computational resources."
   ]
  },
  {
   "cell_type": "code",
   "execution_count": 93,
   "id": "3359136b-51d4-43f5-a062-3e283c0ed57c",
   "metadata": {},
   "outputs": [
    {
     "data": {
      "text/html": [
       "<div>\n",
       "<style scoped>\n",
       "    .dataframe tbody tr th:only-of-type {\n",
       "        vertical-align: middle;\n",
       "    }\n",
       "\n",
       "    .dataframe tbody tr th {\n",
       "        vertical-align: top;\n",
       "    }\n",
       "\n",
       "    .dataframe thead th {\n",
       "        text-align: right;\n",
       "    }\n",
       "</style>\n",
       "<table border=\"1\" class=\"dataframe\">\n",
       "  <thead>\n",
       "    <tr style=\"text-align: right;\">\n",
       "      <th>anime_id</th>\n",
       "      <th>19</th>\n",
       "      <th>239</th>\n",
       "      <th>323</th>\n",
       "      <th>619</th>\n",
       "      <th>658</th>\n",
       "      <th>838</th>\n",
       "      <th>934</th>\n",
       "      <th>1346</th>\n",
       "      <th>1451</th>\n",
       "      <th>1535</th>\n",
       "      <th>...</th>\n",
       "      <th>24781</th>\n",
       "      <th>27387</th>\n",
       "      <th>28223</th>\n",
       "      <th>28673</th>\n",
       "      <th>30524</th>\n",
       "      <th>31240</th>\n",
       "      <th>32153</th>\n",
       "      <th>32188</th>\n",
       "      <th>32682</th>\n",
       "      <th>34048</th>\n",
       "    </tr>\n",
       "    <tr>\n",
       "      <th>user_id</th>\n",
       "      <th></th>\n",
       "      <th></th>\n",
       "      <th></th>\n",
       "      <th></th>\n",
       "      <th></th>\n",
       "      <th></th>\n",
       "      <th></th>\n",
       "      <th></th>\n",
       "      <th></th>\n",
       "      <th></th>\n",
       "      <th></th>\n",
       "      <th></th>\n",
       "      <th></th>\n",
       "      <th></th>\n",
       "      <th></th>\n",
       "      <th></th>\n",
       "      <th></th>\n",
       "      <th></th>\n",
       "      <th></th>\n",
       "      <th></th>\n",
       "      <th></th>\n",
       "    </tr>\n",
       "  </thead>\n",
       "  <tbody>\n",
       "    <tr>\n",
       "      <th>7</th>\n",
       "      <td>0.0</td>\n",
       "      <td>0.0</td>\n",
       "      <td>0.0</td>\n",
       "      <td>0.0</td>\n",
       "      <td>0.0</td>\n",
       "      <td>0.0</td>\n",
       "      <td>0.0</td>\n",
       "      <td>0.0</td>\n",
       "      <td>0.0</td>\n",
       "      <td>0.0</td>\n",
       "      <td>...</td>\n",
       "      <td>0.0</td>\n",
       "      <td>0.0</td>\n",
       "      <td>0.0</td>\n",
       "      <td>0.0</td>\n",
       "      <td>0.0</td>\n",
       "      <td>0.0</td>\n",
       "      <td>0.0</td>\n",
       "      <td>0.0</td>\n",
       "      <td>0.0</td>\n",
       "      <td>0.0</td>\n",
       "    </tr>\n",
       "    <tr>\n",
       "      <th>17</th>\n",
       "      <td>10.0</td>\n",
       "      <td>0.0</td>\n",
       "      <td>8.0</td>\n",
       "      <td>0.0</td>\n",
       "      <td>0.0</td>\n",
       "      <td>0.0</td>\n",
       "      <td>9.0</td>\n",
       "      <td>0.0</td>\n",
       "      <td>0.0</td>\n",
       "      <td>10.0</td>\n",
       "      <td>...</td>\n",
       "      <td>0.0</td>\n",
       "      <td>0.0</td>\n",
       "      <td>8.0</td>\n",
       "      <td>0.0</td>\n",
       "      <td>0.0</td>\n",
       "      <td>9.0</td>\n",
       "      <td>0.0</td>\n",
       "      <td>0.0</td>\n",
       "      <td>0.0</td>\n",
       "      <td>0.0</td>\n",
       "    </tr>\n",
       "    <tr>\n",
       "      <th>21</th>\n",
       "      <td>0.0</td>\n",
       "      <td>0.0</td>\n",
       "      <td>0.0</td>\n",
       "      <td>0.0</td>\n",
       "      <td>0.0</td>\n",
       "      <td>0.0</td>\n",
       "      <td>0.0</td>\n",
       "      <td>0.0</td>\n",
       "      <td>0.0</td>\n",
       "      <td>0.0</td>\n",
       "      <td>...</td>\n",
       "      <td>0.0</td>\n",
       "      <td>0.0</td>\n",
       "      <td>0.0</td>\n",
       "      <td>0.0</td>\n",
       "      <td>0.0</td>\n",
       "      <td>0.0</td>\n",
       "      <td>0.0</td>\n",
       "      <td>0.0</td>\n",
       "      <td>0.0</td>\n",
       "      <td>0.0</td>\n",
       "    </tr>\n",
       "    <tr>\n",
       "      <th>38</th>\n",
       "      <td>0.0</td>\n",
       "      <td>0.0</td>\n",
       "      <td>0.0</td>\n",
       "      <td>0.0</td>\n",
       "      <td>0.0</td>\n",
       "      <td>0.0</td>\n",
       "      <td>0.0</td>\n",
       "      <td>0.0</td>\n",
       "      <td>0.0</td>\n",
       "      <td>6.0</td>\n",
       "      <td>...</td>\n",
       "      <td>0.0</td>\n",
       "      <td>0.0</td>\n",
       "      <td>0.0</td>\n",
       "      <td>0.0</td>\n",
       "      <td>0.0</td>\n",
       "      <td>0.0</td>\n",
       "      <td>0.0</td>\n",
       "      <td>0.0</td>\n",
       "      <td>0.0</td>\n",
       "      <td>0.0</td>\n",
       "    </tr>\n",
       "    <tr>\n",
       "      <th>44</th>\n",
       "      <td>0.0</td>\n",
       "      <td>0.0</td>\n",
       "      <td>0.0</td>\n",
       "      <td>0.0</td>\n",
       "      <td>0.0</td>\n",
       "      <td>0.0</td>\n",
       "      <td>7.0</td>\n",
       "      <td>0.0</td>\n",
       "      <td>0.0</td>\n",
       "      <td>10.0</td>\n",
       "      <td>...</td>\n",
       "      <td>0.0</td>\n",
       "      <td>0.0</td>\n",
       "      <td>0.0</td>\n",
       "      <td>0.0</td>\n",
       "      <td>0.0</td>\n",
       "      <td>0.0</td>\n",
       "      <td>0.0</td>\n",
       "      <td>0.0</td>\n",
       "      <td>0.0</td>\n",
       "      <td>0.0</td>\n",
       "    </tr>\n",
       "    <tr>\n",
       "      <th>...</th>\n",
       "      <td>...</td>\n",
       "      <td>...</td>\n",
       "      <td>...</td>\n",
       "      <td>...</td>\n",
       "      <td>...</td>\n",
       "      <td>...</td>\n",
       "      <td>...</td>\n",
       "      <td>...</td>\n",
       "      <td>...</td>\n",
       "      <td>...</td>\n",
       "      <td>...</td>\n",
       "      <td>...</td>\n",
       "      <td>...</td>\n",
       "      <td>...</td>\n",
       "      <td>...</td>\n",
       "      <td>...</td>\n",
       "      <td>...</td>\n",
       "      <td>...</td>\n",
       "      <td>...</td>\n",
       "      <td>...</td>\n",
       "      <td>...</td>\n",
       "    </tr>\n",
       "    <tr>\n",
       "      <th>73499</th>\n",
       "      <td>0.0</td>\n",
       "      <td>0.0</td>\n",
       "      <td>0.0</td>\n",
       "      <td>0.0</td>\n",
       "      <td>0.0</td>\n",
       "      <td>0.0</td>\n",
       "      <td>0.0</td>\n",
       "      <td>0.0</td>\n",
       "      <td>0.0</td>\n",
       "      <td>0.0</td>\n",
       "      <td>...</td>\n",
       "      <td>0.0</td>\n",
       "      <td>0.0</td>\n",
       "      <td>0.0</td>\n",
       "      <td>0.0</td>\n",
       "      <td>0.0</td>\n",
       "      <td>0.0</td>\n",
       "      <td>0.0</td>\n",
       "      <td>8.0</td>\n",
       "      <td>0.0</td>\n",
       "      <td>0.0</td>\n",
       "    </tr>\n",
       "    <tr>\n",
       "      <th>73502</th>\n",
       "      <td>0.0</td>\n",
       "      <td>0.0</td>\n",
       "      <td>0.0</td>\n",
       "      <td>0.0</td>\n",
       "      <td>0.0</td>\n",
       "      <td>0.0</td>\n",
       "      <td>10.0</td>\n",
       "      <td>0.0</td>\n",
       "      <td>0.0</td>\n",
       "      <td>0.0</td>\n",
       "      <td>...</td>\n",
       "      <td>0.0</td>\n",
       "      <td>0.0</td>\n",
       "      <td>0.0</td>\n",
       "      <td>0.0</td>\n",
       "      <td>0.0</td>\n",
       "      <td>0.0</td>\n",
       "      <td>0.0</td>\n",
       "      <td>0.0</td>\n",
       "      <td>0.0</td>\n",
       "      <td>0.0</td>\n",
       "    </tr>\n",
       "    <tr>\n",
       "      <th>73503</th>\n",
       "      <td>0.0</td>\n",
       "      <td>0.0</td>\n",
       "      <td>0.0</td>\n",
       "      <td>0.0</td>\n",
       "      <td>0.0</td>\n",
       "      <td>0.0</td>\n",
       "      <td>0.0</td>\n",
       "      <td>0.0</td>\n",
       "      <td>0.0</td>\n",
       "      <td>7.0</td>\n",
       "      <td>...</td>\n",
       "      <td>5.0</td>\n",
       "      <td>0.0</td>\n",
       "      <td>8.0</td>\n",
       "      <td>0.0</td>\n",
       "      <td>0.0</td>\n",
       "      <td>6.0</td>\n",
       "      <td>0.0</td>\n",
       "      <td>0.0</td>\n",
       "      <td>0.0</td>\n",
       "      <td>0.0</td>\n",
       "    </tr>\n",
       "    <tr>\n",
       "      <th>73507</th>\n",
       "      <td>0.0</td>\n",
       "      <td>0.0</td>\n",
       "      <td>0.0</td>\n",
       "      <td>0.0</td>\n",
       "      <td>0.0</td>\n",
       "      <td>0.0</td>\n",
       "      <td>10.0</td>\n",
       "      <td>0.0</td>\n",
       "      <td>0.0</td>\n",
       "      <td>0.0</td>\n",
       "      <td>...</td>\n",
       "      <td>0.0</td>\n",
       "      <td>0.0</td>\n",
       "      <td>0.0</td>\n",
       "      <td>0.0</td>\n",
       "      <td>0.0</td>\n",
       "      <td>0.0</td>\n",
       "      <td>0.0</td>\n",
       "      <td>0.0</td>\n",
       "      <td>0.0</td>\n",
       "      <td>0.0</td>\n",
       "    </tr>\n",
       "    <tr>\n",
       "      <th>73515</th>\n",
       "      <td>9.0</td>\n",
       "      <td>0.0</td>\n",
       "      <td>0.0</td>\n",
       "      <td>0.0</td>\n",
       "      <td>0.0</td>\n",
       "      <td>0.0</td>\n",
       "      <td>0.0</td>\n",
       "      <td>0.0</td>\n",
       "      <td>0.0</td>\n",
       "      <td>0.0</td>\n",
       "      <td>...</td>\n",
       "      <td>0.0</td>\n",
       "      <td>0.0</td>\n",
       "      <td>0.0</td>\n",
       "      <td>0.0</td>\n",
       "      <td>0.0</td>\n",
       "      <td>0.0</td>\n",
       "      <td>0.0</td>\n",
       "      <td>0.0</td>\n",
       "      <td>0.0</td>\n",
       "      <td>0.0</td>\n",
       "    </tr>\n",
       "  </tbody>\n",
       "</table>\n",
       "<p>9526 rows × 82 columns</p>\n",
       "</div>"
      ],
      "text/plain": [
       "anime_id  19     239    323    619    658    838    934    1346   1451   \\\n",
       "user_id                                                                   \n",
       "7           0.0    0.0    0.0    0.0    0.0    0.0    0.0    0.0    0.0   \n",
       "17         10.0    0.0    8.0    0.0    0.0    0.0    9.0    0.0    0.0   \n",
       "21          0.0    0.0    0.0    0.0    0.0    0.0    0.0    0.0    0.0   \n",
       "38          0.0    0.0    0.0    0.0    0.0    0.0    0.0    0.0    0.0   \n",
       "44          0.0    0.0    0.0    0.0    0.0    0.0    7.0    0.0    0.0   \n",
       "...         ...    ...    ...    ...    ...    ...    ...    ...    ...   \n",
       "73499       0.0    0.0    0.0    0.0    0.0    0.0    0.0    0.0    0.0   \n",
       "73502       0.0    0.0    0.0    0.0    0.0    0.0   10.0    0.0    0.0   \n",
       "73503       0.0    0.0    0.0    0.0    0.0    0.0    0.0    0.0    0.0   \n",
       "73507       0.0    0.0    0.0    0.0    0.0    0.0   10.0    0.0    0.0   \n",
       "73515       9.0    0.0    0.0    0.0    0.0    0.0    0.0    0.0    0.0   \n",
       "\n",
       "anime_id  1535   ...  24781  27387  28223  28673  30524  31240  32153  32188  \\\n",
       "user_id          ...                                                           \n",
       "7           0.0  ...    0.0    0.0    0.0    0.0    0.0    0.0    0.0    0.0   \n",
       "17         10.0  ...    0.0    0.0    8.0    0.0    0.0    9.0    0.0    0.0   \n",
       "21          0.0  ...    0.0    0.0    0.0    0.0    0.0    0.0    0.0    0.0   \n",
       "38          6.0  ...    0.0    0.0    0.0    0.0    0.0    0.0    0.0    0.0   \n",
       "44         10.0  ...    0.0    0.0    0.0    0.0    0.0    0.0    0.0    0.0   \n",
       "...         ...  ...    ...    ...    ...    ...    ...    ...    ...    ...   \n",
       "73499       0.0  ...    0.0    0.0    0.0    0.0    0.0    0.0    0.0    8.0   \n",
       "73502       0.0  ...    0.0    0.0    0.0    0.0    0.0    0.0    0.0    0.0   \n",
       "73503       7.0  ...    5.0    0.0    8.0    0.0    0.0    6.0    0.0    0.0   \n",
       "73507       0.0  ...    0.0    0.0    0.0    0.0    0.0    0.0    0.0    0.0   \n",
       "73515       0.0  ...    0.0    0.0    0.0    0.0    0.0    0.0    0.0    0.0   \n",
       "\n",
       "anime_id  32682  34048  \n",
       "user_id                 \n",
       "7           0.0    0.0  \n",
       "17          0.0    0.0  \n",
       "21          0.0    0.0  \n",
       "38          0.0    0.0  \n",
       "44          0.0    0.0  \n",
       "...         ...    ...  \n",
       "73499       0.0    0.0  \n",
       "73502       0.0    0.0  \n",
       "73503       0.0    0.0  \n",
       "73507       0.0    0.0  \n",
       "73515       0.0    0.0  \n",
       "\n",
       "[9526 rows x 82 columns]"
      ]
     },
     "execution_count": 93,
     "metadata": {},
     "output_type": "execute_result"
    }
   ],
   "source": [
    "filt_df_ratings = X_train.pivot(index='user_id', columns='anime_id', values='rating')\n",
    "filt_df_ratings2 = filt_df_ratings.copy().fillna(0)\n",
    "filt_df_ratings2"
   ]
  },
  {
   "cell_type": "markdown",
   "id": "e2d747c0-eb39-437e-99a7-6fadaaf98f5f",
   "metadata": {},
   "source": [
    "### User-user"
   ]
  },
  {
   "cell_type": "markdown",
   "id": "59a83b3e-5119-42ac-bae6-6b0090df1ae8",
   "metadata": {},
   "source": [
    "#### Pearson Correlation - Similarity Matrix\n",
    "\n",
    "In this step is computed the similarity between the users using the Pearson correlation with 'corr' method from 'scipy.stats' (Scipy.org, 2019). Its results can vary from 1 (strong positive linear correlation) to -1 (strong negative linear correlation), with 0 meaning no linear correlation between the variables.\n",
    "\n",
    "The decision to use the Pearson correlation stemmed from its consideration of the mean rating of each user. This approach proves beneficial in scenarios where users exhibit diverse rating patterns. Essentially, it normalizes the varying levels of generosity across their global rating patterns, thereby mitigating the influence of individual user biases (Aggarwal and Springer International Publishing Ag, 2018, p.34-38)."
   ]
  },
  {
   "cell_type": "code",
   "execution_count": 96,
   "id": "7a4e5c1b-a636-4c5e-bd8b-a4cbd53686b2",
   "metadata": {},
   "outputs": [
    {
     "data": {
      "text/html": [
       "<div>\n",
       "<style scoped>\n",
       "    .dataframe tbody tr th:only-of-type {\n",
       "        vertical-align: middle;\n",
       "    }\n",
       "\n",
       "    .dataframe tbody tr th {\n",
       "        vertical-align: top;\n",
       "    }\n",
       "\n",
       "    .dataframe thead th {\n",
       "        text-align: right;\n",
       "    }\n",
       "</style>\n",
       "<table border=\"1\" class=\"dataframe\">\n",
       "  <thead>\n",
       "    <tr style=\"text-align: right;\">\n",
       "      <th>user_id</th>\n",
       "      <th>7</th>\n",
       "      <th>17</th>\n",
       "      <th>21</th>\n",
       "      <th>38</th>\n",
       "      <th>44</th>\n",
       "      <th>48</th>\n",
       "      <th>51</th>\n",
       "      <th>62</th>\n",
       "      <th>73</th>\n",
       "      <th>77</th>\n",
       "      <th>...</th>\n",
       "      <th>73470</th>\n",
       "      <th>73476</th>\n",
       "      <th>73478</th>\n",
       "      <th>73480</th>\n",
       "      <th>73485</th>\n",
       "      <th>73499</th>\n",
       "      <th>73502</th>\n",
       "      <th>73503</th>\n",
       "      <th>73507</th>\n",
       "      <th>73515</th>\n",
       "    </tr>\n",
       "    <tr>\n",
       "      <th>user_id</th>\n",
       "      <th></th>\n",
       "      <th></th>\n",
       "      <th></th>\n",
       "      <th></th>\n",
       "      <th></th>\n",
       "      <th></th>\n",
       "      <th></th>\n",
       "      <th></th>\n",
       "      <th></th>\n",
       "      <th></th>\n",
       "      <th></th>\n",
       "      <th></th>\n",
       "      <th></th>\n",
       "      <th></th>\n",
       "      <th></th>\n",
       "      <th></th>\n",
       "      <th></th>\n",
       "      <th></th>\n",
       "      <th></th>\n",
       "      <th></th>\n",
       "      <th></th>\n",
       "    </tr>\n",
       "  </thead>\n",
       "  <tbody>\n",
       "    <tr>\n",
       "      <th>7</th>\n",
       "      <td>1.000000</td>\n",
       "      <td>0.251432</td>\n",
       "      <td>0.448678</td>\n",
       "      <td>-0.013493</td>\n",
       "      <td>0.140784</td>\n",
       "      <td>0.391839</td>\n",
       "      <td>0.053408</td>\n",
       "      <td>0.210184</td>\n",
       "      <td>0.536459</td>\n",
       "      <td>-0.083266</td>\n",
       "      <td>...</td>\n",
       "      <td>-0.049384</td>\n",
       "      <td>-0.024335</td>\n",
       "      <td>-0.071118</td>\n",
       "      <td>-0.094085</td>\n",
       "      <td>0.256904</td>\n",
       "      <td>-0.127996</td>\n",
       "      <td>0.221866</td>\n",
       "      <td>-0.124096</td>\n",
       "      <td>0.062906</td>\n",
       "      <td>0.049479</td>\n",
       "    </tr>\n",
       "    <tr>\n",
       "      <th>17</th>\n",
       "      <td>0.251432</td>\n",
       "      <td>1.000000</td>\n",
       "      <td>0.196098</td>\n",
       "      <td>0.297405</td>\n",
       "      <td>0.327907</td>\n",
       "      <td>0.342961</td>\n",
       "      <td>0.178402</td>\n",
       "      <td>0.346295</td>\n",
       "      <td>0.438337</td>\n",
       "      <td>0.013664</td>\n",
       "      <td>...</td>\n",
       "      <td>0.276682</td>\n",
       "      <td>0.584076</td>\n",
       "      <td>0.055264</td>\n",
       "      <td>0.228981</td>\n",
       "      <td>0.348458</td>\n",
       "      <td>0.244780</td>\n",
       "      <td>0.370060</td>\n",
       "      <td>0.350983</td>\n",
       "      <td>0.202228</td>\n",
       "      <td>0.386247</td>\n",
       "    </tr>\n",
       "    <tr>\n",
       "      <th>21</th>\n",
       "      <td>0.448678</td>\n",
       "      <td>0.196098</td>\n",
       "      <td>1.000000</td>\n",
       "      <td>0.094418</td>\n",
       "      <td>0.348789</td>\n",
       "      <td>0.262590</td>\n",
       "      <td>0.160472</td>\n",
       "      <td>0.405948</td>\n",
       "      <td>0.397939</td>\n",
       "      <td>0.126682</td>\n",
       "      <td>...</td>\n",
       "      <td>-0.063544</td>\n",
       "      <td>0.206824</td>\n",
       "      <td>-0.091510</td>\n",
       "      <td>-0.014925</td>\n",
       "      <td>0.344006</td>\n",
       "      <td>-0.070227</td>\n",
       "      <td>0.098289</td>\n",
       "      <td>0.150408</td>\n",
       "      <td>0.080606</td>\n",
       "      <td>-0.023279</td>\n",
       "    </tr>\n",
       "    <tr>\n",
       "      <th>38</th>\n",
       "      <td>-0.013493</td>\n",
       "      <td>0.297405</td>\n",
       "      <td>0.094418</td>\n",
       "      <td>1.000000</td>\n",
       "      <td>0.265304</td>\n",
       "      <td>0.353212</td>\n",
       "      <td>-0.006169</td>\n",
       "      <td>0.364055</td>\n",
       "      <td>0.068344</td>\n",
       "      <td>0.070208</td>\n",
       "      <td>...</td>\n",
       "      <td>0.077347</td>\n",
       "      <td>0.422282</td>\n",
       "      <td>0.049119</td>\n",
       "      <td>0.271124</td>\n",
       "      <td>0.181300</td>\n",
       "      <td>0.255603</td>\n",
       "      <td>0.209085</td>\n",
       "      <td>0.438043</td>\n",
       "      <td>0.276908</td>\n",
       "      <td>0.344828</td>\n",
       "    </tr>\n",
       "    <tr>\n",
       "      <th>44</th>\n",
       "      <td>0.140784</td>\n",
       "      <td>0.327907</td>\n",
       "      <td>0.348789</td>\n",
       "      <td>0.265304</td>\n",
       "      <td>1.000000</td>\n",
       "      <td>0.223011</td>\n",
       "      <td>0.152085</td>\n",
       "      <td>0.246211</td>\n",
       "      <td>0.364757</td>\n",
       "      <td>0.343692</td>\n",
       "      <td>...</td>\n",
       "      <td>0.132464</td>\n",
       "      <td>0.280272</td>\n",
       "      <td>0.163398</td>\n",
       "      <td>0.384858</td>\n",
       "      <td>0.406103</td>\n",
       "      <td>0.365544</td>\n",
       "      <td>0.269743</td>\n",
       "      <td>0.336718</td>\n",
       "      <td>-0.041491</td>\n",
       "      <td>0.181339</td>\n",
       "    </tr>\n",
       "    <tr>\n",
       "      <th>...</th>\n",
       "      <td>...</td>\n",
       "      <td>...</td>\n",
       "      <td>...</td>\n",
       "      <td>...</td>\n",
       "      <td>...</td>\n",
       "      <td>...</td>\n",
       "      <td>...</td>\n",
       "      <td>...</td>\n",
       "      <td>...</td>\n",
       "      <td>...</td>\n",
       "      <td>...</td>\n",
       "      <td>...</td>\n",
       "      <td>...</td>\n",
       "      <td>...</td>\n",
       "      <td>...</td>\n",
       "      <td>...</td>\n",
       "      <td>...</td>\n",
       "      <td>...</td>\n",
       "      <td>...</td>\n",
       "      <td>...</td>\n",
       "      <td>...</td>\n",
       "    </tr>\n",
       "    <tr>\n",
       "      <th>73499</th>\n",
       "      <td>-0.127996</td>\n",
       "      <td>0.244780</td>\n",
       "      <td>-0.070227</td>\n",
       "      <td>0.255603</td>\n",
       "      <td>0.365544</td>\n",
       "      <td>0.200499</td>\n",
       "      <td>0.013934</td>\n",
       "      <td>0.081666</td>\n",
       "      <td>-0.005440</td>\n",
       "      <td>0.182683</td>\n",
       "      <td>...</td>\n",
       "      <td>0.053755</td>\n",
       "      <td>0.236121</td>\n",
       "      <td>0.151360</td>\n",
       "      <td>0.518215</td>\n",
       "      <td>0.058973</td>\n",
       "      <td>1.000000</td>\n",
       "      <td>0.434394</td>\n",
       "      <td>0.257551</td>\n",
       "      <td>-0.048222</td>\n",
       "      <td>0.349765</td>\n",
       "    </tr>\n",
       "    <tr>\n",
       "      <th>73502</th>\n",
       "      <td>0.221866</td>\n",
       "      <td>0.370060</td>\n",
       "      <td>0.098289</td>\n",
       "      <td>0.209085</td>\n",
       "      <td>0.269743</td>\n",
       "      <td>0.422005</td>\n",
       "      <td>0.122714</td>\n",
       "      <td>0.225180</td>\n",
       "      <td>0.300123</td>\n",
       "      <td>0.081600</td>\n",
       "      <td>...</td>\n",
       "      <td>0.178350</td>\n",
       "      <td>0.345916</td>\n",
       "      <td>0.075403</td>\n",
       "      <td>0.301868</td>\n",
       "      <td>0.136600</td>\n",
       "      <td>0.434394</td>\n",
       "      <td>1.000000</td>\n",
       "      <td>0.182351</td>\n",
       "      <td>0.261423</td>\n",
       "      <td>0.430925</td>\n",
       "    </tr>\n",
       "    <tr>\n",
       "      <th>73503</th>\n",
       "      <td>-0.124096</td>\n",
       "      <td>0.350983</td>\n",
       "      <td>0.150408</td>\n",
       "      <td>0.438043</td>\n",
       "      <td>0.336718</td>\n",
       "      <td>0.403184</td>\n",
       "      <td>0.220995</td>\n",
       "      <td>0.218991</td>\n",
       "      <td>0.111274</td>\n",
       "      <td>0.131874</td>\n",
       "      <td>...</td>\n",
       "      <td>0.251182</td>\n",
       "      <td>0.499098</td>\n",
       "      <td>0.134277</td>\n",
       "      <td>0.530085</td>\n",
       "      <td>0.271657</td>\n",
       "      <td>0.257551</td>\n",
       "      <td>0.182351</td>\n",
       "      <td>1.000000</td>\n",
       "      <td>0.260078</td>\n",
       "      <td>0.449360</td>\n",
       "    </tr>\n",
       "    <tr>\n",
       "      <th>73507</th>\n",
       "      <td>0.062906</td>\n",
       "      <td>0.202228</td>\n",
       "      <td>0.080606</td>\n",
       "      <td>0.276908</td>\n",
       "      <td>-0.041491</td>\n",
       "      <td>0.212267</td>\n",
       "      <td>0.116617</td>\n",
       "      <td>0.047512</td>\n",
       "      <td>0.038379</td>\n",
       "      <td>-0.010502</td>\n",
       "      <td>...</td>\n",
       "      <td>0.115788</td>\n",
       "      <td>0.187346</td>\n",
       "      <td>0.003289</td>\n",
       "      <td>0.155062</td>\n",
       "      <td>0.071827</td>\n",
       "      <td>-0.048222</td>\n",
       "      <td>0.261423</td>\n",
       "      <td>0.260078</td>\n",
       "      <td>1.000000</td>\n",
       "      <td>0.375526</td>\n",
       "    </tr>\n",
       "    <tr>\n",
       "      <th>73515</th>\n",
       "      <td>0.049479</td>\n",
       "      <td>0.386247</td>\n",
       "      <td>-0.023279</td>\n",
       "      <td>0.344828</td>\n",
       "      <td>0.181339</td>\n",
       "      <td>0.481299</td>\n",
       "      <td>0.182599</td>\n",
       "      <td>0.063725</td>\n",
       "      <td>0.137071</td>\n",
       "      <td>0.047426</td>\n",
       "      <td>...</td>\n",
       "      <td>0.294760</td>\n",
       "      <td>0.303572</td>\n",
       "      <td>0.022761</td>\n",
       "      <td>0.492047</td>\n",
       "      <td>0.268989</td>\n",
       "      <td>0.349765</td>\n",
       "      <td>0.430925</td>\n",
       "      <td>0.449360</td>\n",
       "      <td>0.375526</td>\n",
       "      <td>1.000000</td>\n",
       "    </tr>\n",
       "  </tbody>\n",
       "</table>\n",
       "<p>9526 rows × 9526 columns</p>\n",
       "</div>"
      ],
      "text/plain": [
       "user_id     7         17        21        38        44        48        51     \\\n",
       "user_id                                                                         \n",
       "7        1.000000  0.251432  0.448678 -0.013493  0.140784  0.391839  0.053408   \n",
       "17       0.251432  1.000000  0.196098  0.297405  0.327907  0.342961  0.178402   \n",
       "21       0.448678  0.196098  1.000000  0.094418  0.348789  0.262590  0.160472   \n",
       "38      -0.013493  0.297405  0.094418  1.000000  0.265304  0.353212 -0.006169   \n",
       "44       0.140784  0.327907  0.348789  0.265304  1.000000  0.223011  0.152085   \n",
       "...           ...       ...       ...       ...       ...       ...       ...   \n",
       "73499   -0.127996  0.244780 -0.070227  0.255603  0.365544  0.200499  0.013934   \n",
       "73502    0.221866  0.370060  0.098289  0.209085  0.269743  0.422005  0.122714   \n",
       "73503   -0.124096  0.350983  0.150408  0.438043  0.336718  0.403184  0.220995   \n",
       "73507    0.062906  0.202228  0.080606  0.276908 -0.041491  0.212267  0.116617   \n",
       "73515    0.049479  0.386247 -0.023279  0.344828  0.181339  0.481299  0.182599   \n",
       "\n",
       "user_id     62        73        77     ...     73470     73476     73478  \\\n",
       "user_id                                ...                                 \n",
       "7        0.210184  0.536459 -0.083266  ... -0.049384 -0.024335 -0.071118   \n",
       "17       0.346295  0.438337  0.013664  ...  0.276682  0.584076  0.055264   \n",
       "21       0.405948  0.397939  0.126682  ... -0.063544  0.206824 -0.091510   \n",
       "38       0.364055  0.068344  0.070208  ...  0.077347  0.422282  0.049119   \n",
       "44       0.246211  0.364757  0.343692  ...  0.132464  0.280272  0.163398   \n",
       "...           ...       ...       ...  ...       ...       ...       ...   \n",
       "73499    0.081666 -0.005440  0.182683  ...  0.053755  0.236121  0.151360   \n",
       "73502    0.225180  0.300123  0.081600  ...  0.178350  0.345916  0.075403   \n",
       "73503    0.218991  0.111274  0.131874  ...  0.251182  0.499098  0.134277   \n",
       "73507    0.047512  0.038379 -0.010502  ...  0.115788  0.187346  0.003289   \n",
       "73515    0.063725  0.137071  0.047426  ...  0.294760  0.303572  0.022761   \n",
       "\n",
       "user_id     73480     73485     73499     73502     73503     73507     73515  \n",
       "user_id                                                                        \n",
       "7       -0.094085  0.256904 -0.127996  0.221866 -0.124096  0.062906  0.049479  \n",
       "17       0.228981  0.348458  0.244780  0.370060  0.350983  0.202228  0.386247  \n",
       "21      -0.014925  0.344006 -0.070227  0.098289  0.150408  0.080606 -0.023279  \n",
       "38       0.271124  0.181300  0.255603  0.209085  0.438043  0.276908  0.344828  \n",
       "44       0.384858  0.406103  0.365544  0.269743  0.336718 -0.041491  0.181339  \n",
       "...           ...       ...       ...       ...       ...       ...       ...  \n",
       "73499    0.518215  0.058973  1.000000  0.434394  0.257551 -0.048222  0.349765  \n",
       "73502    0.301868  0.136600  0.434394  1.000000  0.182351  0.261423  0.430925  \n",
       "73503    0.530085  0.271657  0.257551  0.182351  1.000000  0.260078  0.449360  \n",
       "73507    0.155062  0.071827 -0.048222  0.261423  0.260078  1.000000  0.375526  \n",
       "73515    0.492047  0.268989  0.349765  0.430925  0.449360  0.375526  1.000000  \n",
       "\n",
       "[9526 rows x 9526 columns]"
      ]
     },
     "execution_count": 96,
     "metadata": {},
     "output_type": "execute_result"
    }
   ],
   "source": [
    "filt_df_ratings2_T = filt_df_ratings2.T\n",
    "filt_similarity_pearson_df = filt_df_ratings2_T.corr(method='pearson')\n",
    "filt_similarity_pearson_df"
   ]
  },
  {
   "cell_type": "markdown",
   "id": "2efbf05b-2a7d-4e70-8433-8fd2e147f0ab",
   "metadata": {},
   "source": [
    "#### Ratings function\n",
    "\n",
    "The 'calculate_ratings' function is important for making recommendations more accurate by leveraging the ratings of similar users. It uses Pearson correlation coefficients (similarity scores) to filter similar users based on a specified threshold and calculates the predicted rating using the weighted average method. This function also returns the mean rating of the anime as a default when no similar users have rated the anime. This approach ensures that the system provides a reasonable predictive value instead of returning a unique or arbitrary value in the absence of ratings from similar users."
   ]
  },
  {
   "cell_type": "code",
   "execution_count": 98,
   "id": "fc10ab7a-d43b-45a2-8d83-f04a04fafc4a",
   "metadata": {},
   "outputs": [],
   "source": [
    "def calculate_ratings(anime_id, user_id, similarity_threshold, filt_df_ratings2, filt_similarity_pearson_df):\n",
    "    user_similarities = filt_similarity_pearson_df.loc[user_id]\n",
    "    similar_users = user_similarities[user_similarities >= similarity_threshold]\n",
    "    similar_users_ratings = filt_df_ratings2.loc[similar_users.index, anime_id]\n",
    "    # Filter out users who haven't rated the target anime\n",
    "    similar_users_ratings = similar_users_ratings[similar_users_ratings > 0]\n",
    "\n",
    "    if similar_users_ratings.empty:\n",
    "        # If no similar users have rated the anime, return the mean rating of the anime (default)\n",
    "        return filt_df_ratings2[anime_id].mean()\n",
    "    # Compute the weighted average rating\n",
    "    weighted_ratings = similar_users_ratings * similar_users[similar_users_ratings.index]\n",
    "    predicted_rating = weighted_ratings.sum() / similar_users[similar_users_ratings.index].sum()\n",
    "    return predicted_rating"
   ]
  },
  {
   "cell_type": "markdown",
   "id": "ec785625-1196-48d6-80a5-52566684347c",
   "metadata": {},
   "source": [
    "#### Recomendation function\n",
    "\n",
    "This function recommends anime to users based on their past preferences and the preferences of similar users, using Pearson correlation scores. For new users without any ratings, it recommends the top-rated anime based on mean ratings. This approach helps provide relevant recommendations even for users with no history."
   ]
  },
  {
   "cell_type": "code",
   "execution_count": 100,
   "id": "dc44b5d1-2565-4043-bdc8-85b8be35edde",
   "metadata": {},
   "outputs": [],
   "source": [
    "def recommend_anime(user_id, filt_df_ratings2, filt_similarity_pearson_df, similarity_threshold, top_n=5):\n",
    "    all_anime_ids = filt_df_ratings2.columns\n",
    "\n",
    "    if user_id not in filt_df_ratings2.index:\n",
    "        print(f\"User ID {user_id} not found. Recommending top-rated anime instead.\")\n",
    "        # Recommend top-rated anime for new-users\n",
    "        mean_ratings = filt_df_ratings2.mean(axis=0)\n",
    "        top_recommendations = mean_ratings.sort_values(ascending=False).head(top_n).index.tolist()\n",
    "        return [(anime_id, mean_ratings[anime_id]) for anime_id in top_recommendations]\n",
    "\n",
    "    rated_anime_ids = filt_df_ratings2.loc[user_id][filt_df_ratings2.loc[user_id] > 0].index\n",
    "    unrated_anime_ids = [anime_id for anime_id in all_anime_ids if anime_id not in rated_anime_ids]\n",
    "    # Predict ratings for unrated anime\n",
    "    predicted_ratings = []\n",
    "    for anime_id in unrated_anime_ids:\n",
    "        predicted_rating = calculate_ratings(anime_id, user_id, similarity_threshold, filt_df_ratings2, filt_similarity_pearson_df)\n",
    "        predicted_ratings.append((anime_id, predicted_rating))\n",
    "\n",
    "    # Sort predictions by rating in descending order\n",
    "    predicted_ratings.sort(key=lambda x: x[1], reverse=True)\n",
    "    top_recommendations = predicted_ratings[:top_n]\n",
    "    return top_recommendations"
   ]
  },
  {
   "cell_type": "markdown",
   "id": "43bfcb27-2993-4c45-acd2-d59257e5a91d",
   "metadata": {},
   "source": [
    "#### Root Mean Square Error (RMSE) function\n",
    "\n",
    "The RMSE is used to assess how close the recommendations are to the actual ratings, with lower values indicating better model performance. In other words, the RMSE value reflects the accuracy of the recommendation model. In the initial part of the function, the rating sparse matrix is flattened into a list of rating tuples. Then, the data is split to evaluate the model, prevent overfitting, and avoid data leakage. Finally, predictions are made for the test set, and the RMSE is computed between the actual and predicted ratings."
   ]
  },
  {
   "cell_type": "code",
   "execution_count": 102,
   "id": "f233466e-471b-4ff6-bbee-7ffae7333873",
   "metadata": {},
   "outputs": [],
   "source": [
    "def calculate_rmse(filt_df_ratings2, filt_similarity_pearson_df, similarity_threshold):\n",
    "    rating_tuples = [(user, anime, filt_df_ratings2.loc[user, anime])\n",
    "                     for user in filt_df_ratings2.index\n",
    "                     for anime in filt_df_ratings2.columns\n",
    "                     if filt_df_ratings2.loc[user, anime] > 0]\n",
    "\n",
    "    train_data, test_data = train_test_split(rating_tuples, test_size=0.2, random_state=64)\n",
    "    train_df = pd.DataFrame(train_data, columns=['user_id', 'anime_id', 'rating']).pivot(index='user_id', columns='anime_id', values='rating')\n",
    "    filt_df_ratings2_train = filt_df_ratings2.copy()\n",
    "    filt_df_ratings2_train.update(train_df)\n",
    "\n",
    "    # Predict ratings for the test set\n",
    "    test_predictions = []\n",
    "    for (user_id, anime_id, actual_rating) in test_data:\n",
    "        predicted_rating = calculate_ratings(anime_id, user_id, similarity_threshold, filt_df_ratings2_train, filt_similarity_pearson_df)\n",
    "        test_predictions.append((actual_rating, predicted_rating))\n",
    "\n",
    "    # Calculate RMSE\n",
    "    mse = np.mean([(actual - predicted) ** 2 for actual, predicted in test_predictions])\n",
    "    rmse = sqrt(mse)\n",
    "    return rmse"
   ]
  },
  {
   "cell_type": "markdown",
   "id": "2bae9cac-b1e3-44fb-874d-b46abb36e05f",
   "metadata": {},
   "source": [
    "#### Making recommendation\n",
    "\n",
    "Here, I will use the functions above to recommend five anime for the user index, considering a 'similarity_threshold' of 0.8. This value means that for a user to be included as a nearest neighbor, their similarity score must be greater than or equal to this threshold (0.8). In addition, when a user ID is not found, the top five rated anime will be shown to help new users who do not have a history."
   ]
  },
  {
   "cell_type": "code",
   "execution_count": 104,
   "id": "878d0891-40d6-4677-bea3-41ed29e54d0a",
   "metadata": {},
   "outputs": [
    {
     "name": "stdout",
     "output_type": "stream",
     "text": [
      "Top 5 recommendations for user 72254:\n",
      "Anime ID: 1535, Predicted Rating: 4.87035481839177\n",
      "Anime ID: 9756, Predicted Rating: 3.6581986143187066\n",
      "Anime ID: 11111, Predicted Rating: 3.4403737140457693\n",
      "Anime ID: 934, Predicted Rating: 3.0581566239764855\n",
      "Anime ID: 5630, Predicted Rating: 2.6014066764644133\n",
      "RMSE: 0.39964199193376676\n"
     ]
    }
   ],
   "source": [
    "user_id_to_recommend = 72254\n",
    "similarity_threshold = 0.8\n",
    "top_n = 5\n",
    "\n",
    "recommendations = recommend_anime(user_id_to_recommend, filt_df_ratings2, filt_similarity_pearson_df, similarity_threshold, top_n)\n",
    "print(f'Top {top_n} recommendations for user {user_id_to_recommend}:')\n",
    "for anime_id, predicted_rating in recommendations:\n",
    "    print(f'Anime ID: {anime_id}, Predicted Rating: {predicted_rating}')\n",
    "\n",
    "rmse = calculate_rmse(filt_df_ratings2, filt_similarity_pearson_df, similarity_threshold)\n",
    "print(f'RMSE: {rmse}')"
   ]
  },
  {
   "cell_type": "markdown",
   "id": "188b8085-79e4-432d-a948-4017f7744508",
   "metadata": {},
   "source": [
    "**Result**\n",
    "\n",
    "This recommender system considered only users who have a similarity score ('similarity_threshold') of 0.8 or higher with user '72254', ensuring that the users have similar preferences to user '72254', potentially increasing the relevance of the recommendations. The predicted ratings were moderate to low for this user, possibly because the similar users do not have high ratings for these anime.\r\n",
    "\r\n",
    "The root mean square error (RMSE) is relatively low (0.40), suggesting that the model's predictions are fairly close to the actual ratings. This value indicates that the predicted ratings deviate from the actual ratings by an average of 0.40 units.\n"
   ]
  },
  {
   "cell_type": "markdown",
   "id": "ae9061e8-f8b2-4006-80d2-f334058e5d09",
   "metadata": {},
   "source": [
    "### Item-item"
   ]
  },
  {
   "cell_type": "markdown",
   "id": "3e44e0ac-fef5-4fa1-96ad-a5bfc44aa543",
   "metadata": {},
   "source": [
    "#### Similarity Matrix - Cosine Similarity\n",
    "\n",
    "Here, is measured the similarity between the items. The 'cosine_similarity' function is also applied in item-item collaborative filtering, with a slight modification: the use of '.T', an attribute used to transpose the DataFrame, treating the rows as columns and vice versa."
   ]
  },
  {
   "cell_type": "code",
   "execution_count": 108,
   "id": "716e638a-4d8d-4f05-8c3a-8afea7037882",
   "metadata": {
    "scrolled": true
   },
   "outputs": [
    {
     "data": {
      "text/html": [
       "<div>\n",
       "<style scoped>\n",
       "    .dataframe tbody tr th:only-of-type {\n",
       "        vertical-align: middle;\n",
       "    }\n",
       "\n",
       "    .dataframe tbody tr th {\n",
       "        vertical-align: top;\n",
       "    }\n",
       "\n",
       "    .dataframe thead th {\n",
       "        text-align: right;\n",
       "    }\n",
       "</style>\n",
       "<table border=\"1\" class=\"dataframe\">\n",
       "  <thead>\n",
       "    <tr style=\"text-align: right;\">\n",
       "      <th>anime_id</th>\n",
       "      <th>19</th>\n",
       "      <th>239</th>\n",
       "      <th>323</th>\n",
       "      <th>619</th>\n",
       "      <th>658</th>\n",
       "      <th>838</th>\n",
       "      <th>934</th>\n",
       "      <th>1346</th>\n",
       "      <th>1451</th>\n",
       "      <th>1535</th>\n",
       "      <th>...</th>\n",
       "      <th>24781</th>\n",
       "      <th>27387</th>\n",
       "      <th>28223</th>\n",
       "      <th>28673</th>\n",
       "      <th>30524</th>\n",
       "      <th>31240</th>\n",
       "      <th>32153</th>\n",
       "      <th>32188</th>\n",
       "      <th>32682</th>\n",
       "      <th>34048</th>\n",
       "    </tr>\n",
       "    <tr>\n",
       "      <th>anime_id</th>\n",
       "      <th></th>\n",
       "      <th></th>\n",
       "      <th></th>\n",
       "      <th></th>\n",
       "      <th></th>\n",
       "      <th></th>\n",
       "      <th></th>\n",
       "      <th></th>\n",
       "      <th></th>\n",
       "      <th></th>\n",
       "      <th></th>\n",
       "      <th></th>\n",
       "      <th></th>\n",
       "      <th></th>\n",
       "      <th></th>\n",
       "      <th></th>\n",
       "      <th></th>\n",
       "      <th></th>\n",
       "      <th></th>\n",
       "      <th></th>\n",
       "      <th></th>\n",
       "    </tr>\n",
       "  </thead>\n",
       "  <tbody>\n",
       "    <tr>\n",
       "      <th>19</th>\n",
       "      <td>1.000000</td>\n",
       "      <td>0.246492</td>\n",
       "      <td>0.228375</td>\n",
       "      <td>0.047907</td>\n",
       "      <td>0.215366</td>\n",
       "      <td>0.113799</td>\n",
       "      <td>0.261810</td>\n",
       "      <td>0.043810</td>\n",
       "      <td>0.049411</td>\n",
       "      <td>0.315868</td>\n",
       "      <td>...</td>\n",
       "      <td>0.055754</td>\n",
       "      <td>0.038991</td>\n",
       "      <td>0.197830</td>\n",
       "      <td>0.000000</td>\n",
       "      <td>0.065494</td>\n",
       "      <td>0.144255</td>\n",
       "      <td>0.008898</td>\n",
       "      <td>0.057622</td>\n",
       "      <td>0.033704</td>\n",
       "      <td>0.032564</td>\n",
       "    </tr>\n",
       "    <tr>\n",
       "      <th>239</th>\n",
       "      <td>0.246492</td>\n",
       "      <td>1.000000</td>\n",
       "      <td>0.216243</td>\n",
       "      <td>0.047010</td>\n",
       "      <td>0.186204</td>\n",
       "      <td>0.094646</td>\n",
       "      <td>0.207058</td>\n",
       "      <td>0.037172</td>\n",
       "      <td>0.054278</td>\n",
       "      <td>0.228609</td>\n",
       "      <td>...</td>\n",
       "      <td>0.037935</td>\n",
       "      <td>0.028796</td>\n",
       "      <td>0.147461</td>\n",
       "      <td>0.000000</td>\n",
       "      <td>0.035312</td>\n",
       "      <td>0.108856</td>\n",
       "      <td>0.027483</td>\n",
       "      <td>0.029884</td>\n",
       "      <td>0.027966</td>\n",
       "      <td>0.000000</td>\n",
       "    </tr>\n",
       "    <tr>\n",
       "      <th>323</th>\n",
       "      <td>0.228375</td>\n",
       "      <td>0.216243</td>\n",
       "      <td>1.000000</td>\n",
       "      <td>0.067935</td>\n",
       "      <td>0.148804</td>\n",
       "      <td>0.116438</td>\n",
       "      <td>0.249880</td>\n",
       "      <td>0.072164</td>\n",
       "      <td>0.067620</td>\n",
       "      <td>0.249695</td>\n",
       "      <td>...</td>\n",
       "      <td>0.053629</td>\n",
       "      <td>0.042059</td>\n",
       "      <td>0.164093</td>\n",
       "      <td>0.000000</td>\n",
       "      <td>0.064783</td>\n",
       "      <td>0.113936</td>\n",
       "      <td>0.005207</td>\n",
       "      <td>0.043506</td>\n",
       "      <td>0.049174</td>\n",
       "      <td>0.000000</td>\n",
       "    </tr>\n",
       "    <tr>\n",
       "      <th>619</th>\n",
       "      <td>0.047907</td>\n",
       "      <td>0.047010</td>\n",
       "      <td>0.067935</td>\n",
       "      <td>1.000000</td>\n",
       "      <td>0.049492</td>\n",
       "      <td>0.052773</td>\n",
       "      <td>0.035880</td>\n",
       "      <td>0.145996</td>\n",
       "      <td>0.096477</td>\n",
       "      <td>0.046038</td>\n",
       "      <td>...</td>\n",
       "      <td>0.019378</td>\n",
       "      <td>0.012173</td>\n",
       "      <td>0.016041</td>\n",
       "      <td>0.000000</td>\n",
       "      <td>0.029223</td>\n",
       "      <td>0.022400</td>\n",
       "      <td>0.000000</td>\n",
       "      <td>0.000000</td>\n",
       "      <td>0.032842</td>\n",
       "      <td>0.000000</td>\n",
       "    </tr>\n",
       "    <tr>\n",
       "      <th>658</th>\n",
       "      <td>0.215366</td>\n",
       "      <td>0.186204</td>\n",
       "      <td>0.148804</td>\n",
       "      <td>0.049492</td>\n",
       "      <td>1.000000</td>\n",
       "      <td>0.116303</td>\n",
       "      <td>0.157985</td>\n",
       "      <td>0.050718</td>\n",
       "      <td>0.056919</td>\n",
       "      <td>0.185692</td>\n",
       "      <td>...</td>\n",
       "      <td>0.038274</td>\n",
       "      <td>0.020554</td>\n",
       "      <td>0.111263</td>\n",
       "      <td>0.000000</td>\n",
       "      <td>0.045089</td>\n",
       "      <td>0.085695</td>\n",
       "      <td>0.009099</td>\n",
       "      <td>0.037326</td>\n",
       "      <td>0.028953</td>\n",
       "      <td>0.000000</td>\n",
       "    </tr>\n",
       "    <tr>\n",
       "      <th>...</th>\n",
       "      <td>...</td>\n",
       "      <td>...</td>\n",
       "      <td>...</td>\n",
       "      <td>...</td>\n",
       "      <td>...</td>\n",
       "      <td>...</td>\n",
       "      <td>...</td>\n",
       "      <td>...</td>\n",
       "      <td>...</td>\n",
       "      <td>...</td>\n",
       "      <td>...</td>\n",
       "      <td>...</td>\n",
       "      <td>...</td>\n",
       "      <td>...</td>\n",
       "      <td>...</td>\n",
       "      <td>...</td>\n",
       "      <td>...</td>\n",
       "      <td>...</td>\n",
       "      <td>...</td>\n",
       "      <td>...</td>\n",
       "      <td>...</td>\n",
       "    </tr>\n",
       "    <tr>\n",
       "      <th>31240</th>\n",
       "      <td>0.144255</td>\n",
       "      <td>0.108856</td>\n",
       "      <td>0.113936</td>\n",
       "      <td>0.022400</td>\n",
       "      <td>0.085695</td>\n",
       "      <td>0.034930</td>\n",
       "      <td>0.232476</td>\n",
       "      <td>0.017516</td>\n",
       "      <td>0.027180</td>\n",
       "      <td>0.322524</td>\n",
       "      <td>...</td>\n",
       "      <td>0.126295</td>\n",
       "      <td>0.148282</td>\n",
       "      <td>0.382532</td>\n",
       "      <td>0.023967</td>\n",
       "      <td>0.095729</td>\n",
       "      <td>1.000000</td>\n",
       "      <td>0.070464</td>\n",
       "      <td>0.153430</td>\n",
       "      <td>0.102417</td>\n",
       "      <td>0.015064</td>\n",
       "    </tr>\n",
       "    <tr>\n",
       "      <th>32153</th>\n",
       "      <td>0.008898</td>\n",
       "      <td>0.027483</td>\n",
       "      <td>0.005207</td>\n",
       "      <td>0.000000</td>\n",
       "      <td>0.009099</td>\n",
       "      <td>0.010483</td>\n",
       "      <td>0.049646</td>\n",
       "      <td>0.000000</td>\n",
       "      <td>0.000000</td>\n",
       "      <td>0.035645</td>\n",
       "      <td>...</td>\n",
       "      <td>0.022527</td>\n",
       "      <td>0.043725</td>\n",
       "      <td>0.053975</td>\n",
       "      <td>0.000000</td>\n",
       "      <td>0.056046</td>\n",
       "      <td>0.070464</td>\n",
       "      <td>1.000000</td>\n",
       "      <td>0.079105</td>\n",
       "      <td>0.051881</td>\n",
       "      <td>0.000000</td>\n",
       "    </tr>\n",
       "    <tr>\n",
       "      <th>32188</th>\n",
       "      <td>0.057622</td>\n",
       "      <td>0.029884</td>\n",
       "      <td>0.043506</td>\n",
       "      <td>0.000000</td>\n",
       "      <td>0.037326</td>\n",
       "      <td>0.021976</td>\n",
       "      <td>0.098271</td>\n",
       "      <td>0.005850</td>\n",
       "      <td>0.000000</td>\n",
       "      <td>0.146282</td>\n",
       "      <td>...</td>\n",
       "      <td>0.078227</td>\n",
       "      <td>0.078883</td>\n",
       "      <td>0.146941</td>\n",
       "      <td>0.000000</td>\n",
       "      <td>0.070532</td>\n",
       "      <td>0.153430</td>\n",
       "      <td>0.079105</td>\n",
       "      <td>1.000000</td>\n",
       "      <td>0.074525</td>\n",
       "      <td>0.037376</td>\n",
       "    </tr>\n",
       "    <tr>\n",
       "      <th>32682</th>\n",
       "      <td>0.033704</td>\n",
       "      <td>0.027966</td>\n",
       "      <td>0.049174</td>\n",
       "      <td>0.032842</td>\n",
       "      <td>0.028953</td>\n",
       "      <td>0.030324</td>\n",
       "      <td>0.063625</td>\n",
       "      <td>0.000000</td>\n",
       "      <td>0.013446</td>\n",
       "      <td>0.076826</td>\n",
       "      <td>...</td>\n",
       "      <td>0.093427</td>\n",
       "      <td>0.087428</td>\n",
       "      <td>0.098433</td>\n",
       "      <td>0.000000</td>\n",
       "      <td>0.515231</td>\n",
       "      <td>0.102417</td>\n",
       "      <td>0.051881</td>\n",
       "      <td>0.074525</td>\n",
       "      <td>1.000000</td>\n",
       "      <td>0.000000</td>\n",
       "    </tr>\n",
       "    <tr>\n",
       "      <th>34048</th>\n",
       "      <td>0.032564</td>\n",
       "      <td>0.000000</td>\n",
       "      <td>0.000000</td>\n",
       "      <td>0.000000</td>\n",
       "      <td>0.000000</td>\n",
       "      <td>0.000000</td>\n",
       "      <td>0.000000</td>\n",
       "      <td>0.000000</td>\n",
       "      <td>0.000000</td>\n",
       "      <td>0.008806</td>\n",
       "      <td>...</td>\n",
       "      <td>0.000000</td>\n",
       "      <td>0.000000</td>\n",
       "      <td>0.000000</td>\n",
       "      <td>0.000000</td>\n",
       "      <td>0.000000</td>\n",
       "      <td>0.015064</td>\n",
       "      <td>0.000000</td>\n",
       "      <td>0.037376</td>\n",
       "      <td>0.000000</td>\n",
       "      <td>1.000000</td>\n",
       "    </tr>\n",
       "  </tbody>\n",
       "</table>\n",
       "<p>82 rows × 82 columns</p>\n",
       "</div>"
      ],
      "text/plain": [
       "anime_id     19        239       323       619       658       838    \\\n",
       "anime_id                                                               \n",
       "19        1.000000  0.246492  0.228375  0.047907  0.215366  0.113799   \n",
       "239       0.246492  1.000000  0.216243  0.047010  0.186204  0.094646   \n",
       "323       0.228375  0.216243  1.000000  0.067935  0.148804  0.116438   \n",
       "619       0.047907  0.047010  0.067935  1.000000  0.049492  0.052773   \n",
       "658       0.215366  0.186204  0.148804  0.049492  1.000000  0.116303   \n",
       "...            ...       ...       ...       ...       ...       ...   \n",
       "31240     0.144255  0.108856  0.113936  0.022400  0.085695  0.034930   \n",
       "32153     0.008898  0.027483  0.005207  0.000000  0.009099  0.010483   \n",
       "32188     0.057622  0.029884  0.043506  0.000000  0.037326  0.021976   \n",
       "32682     0.033704  0.027966  0.049174  0.032842  0.028953  0.030324   \n",
       "34048     0.032564  0.000000  0.000000  0.000000  0.000000  0.000000   \n",
       "\n",
       "anime_id     934       1346      1451      1535   ...     24781     27387  \\\n",
       "anime_id                                          ...                       \n",
       "19        0.261810  0.043810  0.049411  0.315868  ...  0.055754  0.038991   \n",
       "239       0.207058  0.037172  0.054278  0.228609  ...  0.037935  0.028796   \n",
       "323       0.249880  0.072164  0.067620  0.249695  ...  0.053629  0.042059   \n",
       "619       0.035880  0.145996  0.096477  0.046038  ...  0.019378  0.012173   \n",
       "658       0.157985  0.050718  0.056919  0.185692  ...  0.038274  0.020554   \n",
       "...            ...       ...       ...       ...  ...       ...       ...   \n",
       "31240     0.232476  0.017516  0.027180  0.322524  ...  0.126295  0.148282   \n",
       "32153     0.049646  0.000000  0.000000  0.035645  ...  0.022527  0.043725   \n",
       "32188     0.098271  0.005850  0.000000  0.146282  ...  0.078227  0.078883   \n",
       "32682     0.063625  0.000000  0.013446  0.076826  ...  0.093427  0.087428   \n",
       "34048     0.000000  0.000000  0.000000  0.008806  ...  0.000000  0.000000   \n",
       "\n",
       "anime_id     28223     28673     30524     31240     32153     32188  \\\n",
       "anime_id                                                               \n",
       "19        0.197830  0.000000  0.065494  0.144255  0.008898  0.057622   \n",
       "239       0.147461  0.000000  0.035312  0.108856  0.027483  0.029884   \n",
       "323       0.164093  0.000000  0.064783  0.113936  0.005207  0.043506   \n",
       "619       0.016041  0.000000  0.029223  0.022400  0.000000  0.000000   \n",
       "658       0.111263  0.000000  0.045089  0.085695  0.009099  0.037326   \n",
       "...            ...       ...       ...       ...       ...       ...   \n",
       "31240     0.382532  0.023967  0.095729  1.000000  0.070464  0.153430   \n",
       "32153     0.053975  0.000000  0.056046  0.070464  1.000000  0.079105   \n",
       "32188     0.146941  0.000000  0.070532  0.153430  0.079105  1.000000   \n",
       "32682     0.098433  0.000000  0.515231  0.102417  0.051881  0.074525   \n",
       "34048     0.000000  0.000000  0.000000  0.015064  0.000000  0.037376   \n",
       "\n",
       "anime_id     32682     34048  \n",
       "anime_id                      \n",
       "19        0.033704  0.032564  \n",
       "239       0.027966  0.000000  \n",
       "323       0.049174  0.000000  \n",
       "619       0.032842  0.000000  \n",
       "658       0.028953  0.000000  \n",
       "...            ...       ...  \n",
       "31240     0.102417  0.015064  \n",
       "32153     0.051881  0.000000  \n",
       "32188     0.074525  0.037376  \n",
       "32682     1.000000  0.000000  \n",
       "34048     0.000000  1.000000  \n",
       "\n",
       "[82 rows x 82 columns]"
      ]
     },
     "execution_count": 108,
     "metadata": {},
     "output_type": "execute_result"
    }
   ],
   "source": [
    "filt_similarity_matrix = cosine_similarity(filt_df_ratings2.T, filt_df_ratings2.T)\n",
    "filt_similarity_matrix_df = pd.DataFrame(filt_similarity_matrix, index=filt_df_ratings2.columns, columns=filt_df_ratings2.columns)\n",
    "filt_similarity_matrix_df"
   ]
  },
  {
   "cell_type": "markdown",
   "id": "40696160-4c72-4ef5-9cb2-7f2b3f495fc0",
   "metadata": {},
   "source": [
    "#### Ratings function"
   ]
  },
  {
   "cell_type": "code",
   "execution_count": 110,
   "id": "cda20338-13d1-440d-b309-7f2028abcbae",
   "metadata": {},
   "outputs": [],
   "source": [
    "def calculate_ratings(anime_id, user_id, k, filt_df_ratings2, filt_similarity_matrix_df):\n",
    "    if anime_id not in filt_df_ratings2.columns or user_id not in filt_df_ratings2.index:\n",
    "        return filt_df_ratings2[anime_id].mean()\n",
    "    # Get the similarity scores for the target anime\n",
    "    anime_similarities = filt_similarity_matrix_df[anime_id]\n",
    "    # Get the user's ratings\n",
    "    user_ratings = filt_df_ratings2.loc[user_id]\n",
    "    # Get the top K similar animes that the user has rated\n",
    "    similar_animes = user_ratings[user_ratings > 0].index\n",
    "    top_k_similarities = anime_similarities[similar_animes].sort_values(ascending=False).head(k)\n",
    "    \n",
    "    if top_k_similarities.empty:\n",
    "        return filt_df_ratings2[anime_id].mean()\n",
    "\n",
    "    # Compute the weighted average rating\n",
    "    weighted_ratings = user_ratings[top_k_similarities.index] * top_k_similarities\n",
    "    predicted_rating = weighted_ratings.sum() / top_k_similarities.sum()\n",
    "    return predicted_rating"
   ]
  },
  {
   "cell_type": "markdown",
   "id": "e5ecb6b1-d8bb-45d9-9a1a-2cd87c30851c",
   "metadata": {},
   "source": [
    "#### Recomendation function"
   ]
  },
  {
   "cell_type": "code",
   "execution_count": 112,
   "id": "837757e4-3b73-42ca-9f3c-7980ff55b6ef",
   "metadata": {},
   "outputs": [],
   "source": [
    "def recommend_anime(user_id, filt_df_ratings2, filt_similarity_matrix_df, k, top_n=5):\n",
    "    all_anime_ids = filt_df_ratings2.columns\n",
    "\n",
    "    if user_id not in filt_df_ratings2.index:\n",
    "        print(f\"User ID {user_id} not found. Recommending top-rated anime instead.\")\n",
    "        # Recommend top-rated anime for new-users\n",
    "        mean_ratings = filt_df_ratings2.mean(axis=0)\n",
    "        top_recommendations = mean_ratings.sort_values(ascending=False).head(top_n).index.tolist()\n",
    "        return [(anime_id, mean_ratings[anime_id]) for anime_id in top_recommendations]\n",
    "\n",
    "    rated_anime_ids = filt_df_ratings2.loc[user_id][filt_df_ratings2.loc[user_id] > 0].index\n",
    "    unrated_anime_ids = [anime_id for anime_id in all_anime_ids if anime_id not in rated_anime_ids]\n",
    "    # Predict ratings for unrated anime\n",
    "    predicted_ratings = []\n",
    "    for anime_id in unrated_anime_ids:\n",
    "        predicted_rating = calculate_ratings(anime_id, user_id, k, filt_df_ratings2, filt_similarity_matrix_df)\n",
    "        predicted_ratings.append((anime_id, predicted_rating))\n",
    "\n",
    "    # Sort predictions by rating in descending order\n",
    "    predicted_ratings.sort(key=lambda x: x[1], reverse=True)\n",
    "    top_recommendations = predicted_ratings[:top_n]\n",
    "    return top_recommendations"
   ]
  },
  {
   "cell_type": "markdown",
   "id": "2f7b7961-3643-4b60-b12b-3f08d5c4e588",
   "metadata": {},
   "source": [
    "#### Root Mean Square Error (RMSE) function"
   ]
  },
  {
   "cell_type": "code",
   "execution_count": 114,
   "id": "00c12087-8321-446a-ad52-ed615f693724",
   "metadata": {},
   "outputs": [],
   "source": [
    "def calculate_rmse(filt_df_ratings2, filt_similarity_matrix_df, k):\n",
    "    rating_tuples = [(user, anime, filt_df_ratings2.loc[user, anime])\n",
    "                     for user in filt_df_ratings2.index\n",
    "                     for anime in filt_df_ratings2.columns\n",
    "                     if filt_df_ratings2.loc[user, anime] > 0]\n",
    "    \n",
    "    train_data, test_data = train_test_split(rating_tuples, test_size=0.2, random_state=56)\n",
    "    train_df = pd.DataFrame(train_data, columns=['user_id', 'anime_id', 'rating']).pivot(index='user_id', columns='anime_id', values='rating')\n",
    "    filt_df_ratings2_train = filt_df_ratings2.copy()\n",
    "    filt_df_ratings2_train.update(train_df)\n",
    "\n",
    "    # Predict ratings for the test set\n",
    "    test_predictions = []\n",
    "    for (user_id, anime_id, actual_rating) in test_data:\n",
    "        predicted_rating = calculate_ratings(anime_id, user_id, k, filt_df_ratings2_train, filt_similarity_matrix_df)\n",
    "        test_predictions.append((actual_rating, predicted_rating))\n",
    "\n",
    "    # Calculate RMSE\n",
    "    mse = np.mean([(actual - predicted) ** 2 for actual, predicted in test_predictions])\n",
    "    rmse = sqrt(mse)\n",
    "    return rmse"
   ]
  },
  {
   "cell_type": "markdown",
   "id": "258a73f9-73ef-4933-b2ea-80daf4e213b4",
   "metadata": {},
   "source": [
    "#### Making recommendation"
   ]
  },
  {
   "cell_type": "code",
   "execution_count": 116,
   "id": "6cd153dd-e34c-4481-ae97-0b57dc6d5e0c",
   "metadata": {},
   "outputs": [
    {
     "name": "stdout",
     "output_type": "stream",
     "text": [
      "Top 5 recommendations for user 72254:\n",
      "Anime ID: 32188, Predicted Rating: 8.998162630284192\n",
      "Anime ID: 17813, Predicted Rating: 8.986963976533765\n",
      "Anime ID: 16700, Predicted Rating: 8.958041404024486\n",
      "Anime ID: 11701, Predicted Rating: 8.949343458321586\n",
      "Anime ID: 12503, Predicted Rating: 8.908868695888344\n",
      "RMSE: 0.7371457883815986\n"
     ]
    }
   ],
   "source": [
    "user_id_to_recommend = 72254\n",
    "k = 5\n",
    "top_n = 5\n",
    "\n",
    "recommendations = recommend_anime(user_id_to_recommend, filt_df_ratings2, filt_similarity_matrix_df, k, top_n)\n",
    "print(f'Top {top_n} recommendations for user {user_id_to_recommend}:')\n",
    "for anime_id, predicted_rating in recommendations:\n",
    "    print(f'Anime ID: {anime_id}, Predicted Rating: {predicted_rating}')\n",
    "\n",
    "rmse = calculate_rmse(filt_df_ratings2, filt_similarity_matrix_df, k)\n",
    "print(f'RMSE: {rmse}')"
   ]
  },
  {
   "cell_type": "markdown",
   "id": "116a47bf-b782-498c-be01-57d171cd5a18",
   "metadata": {},
   "source": [
    "**Result**\n",
    "\n",
    "The cosine function was applied in item-item collaborative filtering to calculate the similarity between items and recommend anime to user ‘72254’. The predicted ratings are around 9, suggesting that the user is predicted to highly enjoy these recommended anime. The RMSE resulted in an average of 0.74, indicating that the predictions are fairly accurate."
   ]
  },
  {
   "cell_type": "markdown",
   "id": "11cfcdef-43a0-4ff8-9c14-a3877b0e4e94",
   "metadata": {},
   "source": [
    "### Comparison - Content and Collaborative filtering\n",
    "\n",
    "The comparison of recommendation systems showed that content-based filtering performed well with similar recommendations but is limited by inadequate metadata, making it less effective for new or low-interaction users. User-user collaborative filtering, using high similarity scores to user '72254', showed moderate to low predicted ratings with a low RMSE of 0.40, ensuring relevant recommendations. Item-item collaborative filtering predicted high enjoyment ratings around 9 for user '72254' with an RMSE of 0.74, indicating fairly accurate predictions.\n",
    "\n",
    "Overall, content-based filtering excels with rich metadata, user-user filtering benefits from user interaction data, and item-item filtering leverages item similarity for accurate and enjoyable recommendations, supporting a hybrid approach to improve recommendations."
   ]
  },
  {
   "cell_type": "markdown",
   "id": "e00b362a-18e8-4edc-be48-7045211c5961",
   "metadata": {},
   "source": [
    "# References"
   ]
  },
  {
   "cell_type": "markdown",
   "id": "7372ca5d-85f1-4e59-8d46-0a898c6950bd",
   "metadata": {},
   "source": [
    "Aggarwal, C.C. and Springer International Publishing Ag (2018). *Recommender Systems: The Textbook*. Cham Springer International Publishing Springer.\n",
    "\n",
    "docs.python.org. (n.d.). collections — Container datatypes — Python 3.8.3 documentation. [online] Available at: https://docs.python.org/3/library/collections.html. [Accessed 18 May 2024].\n",
    "\n",
    "Libraries.io. (2023). missingno on Pypi. [online] Available at: https://libraries.io/pypi/missingno [Accessed 18 May 2024].\n",
    "\n",
    "matplotlib.org. (n.d.). Getting started — Matplotlib 3.6.2 documentation. [online] Available at: https://matplotlib.org/stable/users/getting_started/index.html [Accessed 16 May 2024].\n",
    "\n",
    "Müller, A. C. and Guido, S. (2017). *Introduction to machine learning with Python: a guide for data scientists*. 1st ed. United States of America. O’reilly Media.\n",
    "\n",
    "Numpy (2009). NumPy. [online] Numpy.org. Available at: https://numpy.org/. [Accessed 16 May 2024].\n",
    "\n",
    "OpenAI. (2024). ChatGPT (GPT-3.5 version) [Large language model]. https://chat.openai.com/chat (https://chat.openai.com/chat. [Accessed 20 May 2024])\n",
    "\n",
    "pandas.pydata.org. (n.d.). User Guide — pandas 1.0.4 documentation. [online] Available at: https://pandas.pydata.org/docs/user_guide/index.html#user-guide. [Accessed 16 May 2024].\n",
    "\n",
    "Patel, D., Patel, F. and Chauhan, U. (2023). Recommendation Systems: Types, Applications, and Challenges. *International Journal of Computing and Digital Systems*, 13(1), pp.851–868. doi:https://doi.org/10.12785/ijcds/130168.\n",
    "\n",
    "rasbt.github.io. (n.d.). Mlxtend.frequent patterns - mlxtend. [online] Available at: https://rasbt.github.io/mlxtend/api_subpackages/mlxtend.frequent_patterns/. [Accessed 20 May 2024].\n",
    "\n",
    "Ricci, F., Lior Rokach, Bracha Shapira and Springerlink (Online Service (2015). Recommender Systems Handbook. New York, Ny: Springer Us.\n",
    "\n",
    "Scikit learn (2018). sklearn.feature_extraction.text.TfidfVectorizer — scikit-learn 0.20.3 documentation. [online] Scikit-learn.org. Available at: https://scikit-learn.org/stable/modules/generated/sklearn.feature_extraction.text.TfidfVectorizer.html.[Accessed 20 May 2024].\n",
    "\n",
    "Scikit-learn (2019). scikit-learn: machine learning in Python — scikit-learn 0.20.3 documentation. [online] Scikit-learn.org. Available at: https://scikit-learn.org/stable/index.html. [Accessed 20 May 2024].\n",
    "\n",
    "Scipy.org. (2019). scipy.stats.pearsonr — SciPy v1.3.2 Reference Guide. [online] Available at: https://docs.scipy.org/doc/scipy/reference/generated/scipy.stats.pearsonr.html. [Accessed 21 May 2024]\n",
    "\r",
    "Waskom, M. (2021). seaborn: statistical data visualization — seaborn 0.10.1 documentation. [online] seaborn.pydata.org. Available at: https://seaborn.pydata.org/index.html [Accessed 18 May 2024]."
   ]
  },
  {
   "cell_type": "markdown",
   "id": "16072a9c-8477-43cd-9922-c94754513045",
   "metadata": {},
   "source": [
    "**Explanation of AI uses in this project:** \n",
    "\n",
    "I used the ChatGPT to refine ideas, find information about the topic, check for grammar usage, and get information about code usage. "
   ]
  }
 ],
 "metadata": {
  "kernelspec": {
   "display_name": "Python 3 (ipykernel)",
   "language": "python",
   "name": "python3"
  },
  "language_info": {
   "codemirror_mode": {
    "name": "ipython",
    "version": 3
   },
   "file_extension": ".py",
   "mimetype": "text/x-python",
   "name": "python",
   "nbconvert_exporter": "python",
   "pygments_lexer": "ipython3",
   "version": "3.11.9"
  }
 },
 "nbformat": 4,
 "nbformat_minor": 5
}
